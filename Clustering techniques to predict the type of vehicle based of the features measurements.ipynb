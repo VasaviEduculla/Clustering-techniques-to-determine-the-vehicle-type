{
 "cells": [
  {
   "cell_type": "code",
   "execution_count": 1,
   "metadata": {},
   "outputs": [
    {
     "name": "stderr",
     "output_type": "stream",
     "text": [
      "C:\\Users\\Vasu\\Anaconda3\\lib\\site-packages\\statsmodels\\tools\\_testing.py:19: FutureWarning: pandas.util.testing is deprecated. Use the functions in the public API at pandas.testing instead.\n",
      "  import pandas.util.testing as tm\n"
     ]
    }
   ],
   "source": [
    "import numpy as np\n",
    "import pandas as pd\n",
    "import matplotlib.pyplot as plt\n",
    "import seaborn as sns"
   ]
  },
  {
   "cell_type": "code",
   "execution_count": 2,
   "metadata": {},
   "outputs": [
    {
     "data": {
      "text/html": [
       "<div>\n",
       "<style scoped>\n",
       "    .dataframe tbody tr th:only-of-type {\n",
       "        vertical-align: middle;\n",
       "    }\n",
       "\n",
       "    .dataframe tbody tr th {\n",
       "        vertical-align: top;\n",
       "    }\n",
       "\n",
       "    .dataframe thead th {\n",
       "        text-align: right;\n",
       "    }\n",
       "</style>\n",
       "<table border=\"1\" class=\"dataframe\">\n",
       "  <thead>\n",
       "    <tr style=\"text-align: right;\">\n",
       "      <th></th>\n",
       "      <th>compactness</th>\n",
       "      <th>circularity</th>\n",
       "      <th>distance_circularity</th>\n",
       "      <th>radius_ratio</th>\n",
       "      <th>pr.axis_aspect_ratio</th>\n",
       "      <th>max.length_aspect_ratio</th>\n",
       "      <th>scatter_ratio</th>\n",
       "      <th>elongatedness</th>\n",
       "      <th>pr.axis_rectangularity</th>\n",
       "      <th>max.length_rectangularity</th>\n",
       "      <th>scaled_variance</th>\n",
       "      <th>scaled_variance.1</th>\n",
       "      <th>scaled_radius_of_gyration</th>\n",
       "      <th>scaled_radius_of_gyration.1</th>\n",
       "      <th>skewness_about</th>\n",
       "      <th>skewness_about.1</th>\n",
       "      <th>skewness_about.2</th>\n",
       "      <th>hollows_ratio</th>\n",
       "      <th>class</th>\n",
       "    </tr>\n",
       "  </thead>\n",
       "  <tbody>\n",
       "    <tr>\n",
       "      <th>0</th>\n",
       "      <td>95</td>\n",
       "      <td>48.0</td>\n",
       "      <td>83.0</td>\n",
       "      <td>178.0</td>\n",
       "      <td>72.0</td>\n",
       "      <td>10</td>\n",
       "      <td>162.0</td>\n",
       "      <td>42.0</td>\n",
       "      <td>20.0</td>\n",
       "      <td>159</td>\n",
       "      <td>176.0</td>\n",
       "      <td>379.0</td>\n",
       "      <td>184.0</td>\n",
       "      <td>70.0</td>\n",
       "      <td>6.0</td>\n",
       "      <td>16.0</td>\n",
       "      <td>187.0</td>\n",
       "      <td>197</td>\n",
       "      <td>van</td>\n",
       "    </tr>\n",
       "    <tr>\n",
       "      <th>1</th>\n",
       "      <td>91</td>\n",
       "      <td>41.0</td>\n",
       "      <td>84.0</td>\n",
       "      <td>141.0</td>\n",
       "      <td>57.0</td>\n",
       "      <td>9</td>\n",
       "      <td>149.0</td>\n",
       "      <td>45.0</td>\n",
       "      <td>19.0</td>\n",
       "      <td>143</td>\n",
       "      <td>170.0</td>\n",
       "      <td>330.0</td>\n",
       "      <td>158.0</td>\n",
       "      <td>72.0</td>\n",
       "      <td>9.0</td>\n",
       "      <td>14.0</td>\n",
       "      <td>189.0</td>\n",
       "      <td>199</td>\n",
       "      <td>van</td>\n",
       "    </tr>\n",
       "    <tr>\n",
       "      <th>2</th>\n",
       "      <td>104</td>\n",
       "      <td>50.0</td>\n",
       "      <td>106.0</td>\n",
       "      <td>209.0</td>\n",
       "      <td>66.0</td>\n",
       "      <td>10</td>\n",
       "      <td>207.0</td>\n",
       "      <td>32.0</td>\n",
       "      <td>23.0</td>\n",
       "      <td>158</td>\n",
       "      <td>223.0</td>\n",
       "      <td>635.0</td>\n",
       "      <td>220.0</td>\n",
       "      <td>73.0</td>\n",
       "      <td>14.0</td>\n",
       "      <td>9.0</td>\n",
       "      <td>188.0</td>\n",
       "      <td>196</td>\n",
       "      <td>car</td>\n",
       "    </tr>\n",
       "    <tr>\n",
       "      <th>3</th>\n",
       "      <td>93</td>\n",
       "      <td>41.0</td>\n",
       "      <td>82.0</td>\n",
       "      <td>159.0</td>\n",
       "      <td>63.0</td>\n",
       "      <td>9</td>\n",
       "      <td>144.0</td>\n",
       "      <td>46.0</td>\n",
       "      <td>19.0</td>\n",
       "      <td>143</td>\n",
       "      <td>160.0</td>\n",
       "      <td>309.0</td>\n",
       "      <td>127.0</td>\n",
       "      <td>63.0</td>\n",
       "      <td>6.0</td>\n",
       "      <td>10.0</td>\n",
       "      <td>199.0</td>\n",
       "      <td>207</td>\n",
       "      <td>van</td>\n",
       "    </tr>\n",
       "    <tr>\n",
       "      <th>4</th>\n",
       "      <td>85</td>\n",
       "      <td>44.0</td>\n",
       "      <td>70.0</td>\n",
       "      <td>205.0</td>\n",
       "      <td>103.0</td>\n",
       "      <td>52</td>\n",
       "      <td>149.0</td>\n",
       "      <td>45.0</td>\n",
       "      <td>19.0</td>\n",
       "      <td>144</td>\n",
       "      <td>241.0</td>\n",
       "      <td>325.0</td>\n",
       "      <td>188.0</td>\n",
       "      <td>127.0</td>\n",
       "      <td>9.0</td>\n",
       "      <td>11.0</td>\n",
       "      <td>180.0</td>\n",
       "      <td>183</td>\n",
       "      <td>bus</td>\n",
       "    </tr>\n",
       "  </tbody>\n",
       "</table>\n",
       "</div>"
      ],
      "text/plain": [
       "   compactness  circularity  distance_circularity  radius_ratio  \\\n",
       "0           95         48.0                  83.0         178.0   \n",
       "1           91         41.0                  84.0         141.0   \n",
       "2          104         50.0                 106.0         209.0   \n",
       "3           93         41.0                  82.0         159.0   \n",
       "4           85         44.0                  70.0         205.0   \n",
       "\n",
       "   pr.axis_aspect_ratio  max.length_aspect_ratio  scatter_ratio  \\\n",
       "0                  72.0                       10          162.0   \n",
       "1                  57.0                        9          149.0   \n",
       "2                  66.0                       10          207.0   \n",
       "3                  63.0                        9          144.0   \n",
       "4                 103.0                       52          149.0   \n",
       "\n",
       "   elongatedness  pr.axis_rectangularity  max.length_rectangularity  \\\n",
       "0           42.0                    20.0                        159   \n",
       "1           45.0                    19.0                        143   \n",
       "2           32.0                    23.0                        158   \n",
       "3           46.0                    19.0                        143   \n",
       "4           45.0                    19.0                        144   \n",
       "\n",
       "   scaled_variance  scaled_variance.1  scaled_radius_of_gyration  \\\n",
       "0            176.0              379.0                      184.0   \n",
       "1            170.0              330.0                      158.0   \n",
       "2            223.0              635.0                      220.0   \n",
       "3            160.0              309.0                      127.0   \n",
       "4            241.0              325.0                      188.0   \n",
       "\n",
       "   scaled_radius_of_gyration.1  skewness_about  skewness_about.1  \\\n",
       "0                         70.0             6.0              16.0   \n",
       "1                         72.0             9.0              14.0   \n",
       "2                         73.0            14.0               9.0   \n",
       "3                         63.0             6.0              10.0   \n",
       "4                        127.0             9.0              11.0   \n",
       "\n",
       "   skewness_about.2  hollows_ratio class  \n",
       "0             187.0            197   van  \n",
       "1             189.0            199   van  \n",
       "2             188.0            196   car  \n",
       "3             199.0            207   van  \n",
       "4             180.0            183   bus  "
      ]
     },
     "execution_count": 2,
     "metadata": {},
     "output_type": "execute_result"
    }
   ],
   "source": [
    "df = pd.read_csv(\"D:\\great lakes\\datasets\\Vehicle.csv\")\n",
    "df.head()"
   ]
  },
  {
   "cell_type": "code",
   "execution_count": 3,
   "metadata": {},
   "outputs": [
    {
     "data": {
      "text/plain": [
       "(846, 19)"
      ]
     },
     "execution_count": 3,
     "metadata": {},
     "output_type": "execute_result"
    }
   ],
   "source": [
    "df.shape"
   ]
  },
  {
   "cell_type": "code",
   "execution_count": 4,
   "metadata": {},
   "outputs": [
    {
     "data": {
      "text/plain": [
       "compactness                    0\n",
       "circularity                    5\n",
       "distance_circularity           4\n",
       "radius_ratio                   6\n",
       "pr.axis_aspect_ratio           2\n",
       "max.length_aspect_ratio        0\n",
       "scatter_ratio                  1\n",
       "elongatedness                  1\n",
       "pr.axis_rectangularity         3\n",
       "max.length_rectangularity      0\n",
       "scaled_variance                3\n",
       "scaled_variance.1              2\n",
       "scaled_radius_of_gyration      2\n",
       "scaled_radius_of_gyration.1    4\n",
       "skewness_about                 6\n",
       "skewness_about.1               1\n",
       "skewness_about.2               1\n",
       "hollows_ratio                  0\n",
       "class                          0\n",
       "dtype: int64"
      ]
     },
     "execution_count": 4,
     "metadata": {},
     "output_type": "execute_result"
    }
   ],
   "source": [
    "df.isnull().sum()"
   ]
  },
  {
   "cell_type": "code",
   "execution_count": 5,
   "metadata": {},
   "outputs": [
    {
     "data": {
      "text/html": [
       "<div>\n",
       "<style scoped>\n",
       "    .dataframe tbody tr th:only-of-type {\n",
       "        vertical-align: middle;\n",
       "    }\n",
       "\n",
       "    .dataframe tbody tr th {\n",
       "        vertical-align: top;\n",
       "    }\n",
       "\n",
       "    .dataframe thead th {\n",
       "        text-align: right;\n",
       "    }\n",
       "</style>\n",
       "<table border=\"1\" class=\"dataframe\">\n",
       "  <thead>\n",
       "    <tr style=\"text-align: right;\">\n",
       "      <th></th>\n",
       "      <th>compactness</th>\n",
       "      <th>circularity</th>\n",
       "      <th>distance_circularity</th>\n",
       "      <th>radius_ratio</th>\n",
       "      <th>pr.axis_aspect_ratio</th>\n",
       "      <th>max.length_aspect_ratio</th>\n",
       "      <th>scatter_ratio</th>\n",
       "      <th>elongatedness</th>\n",
       "      <th>pr.axis_rectangularity</th>\n",
       "      <th>max.length_rectangularity</th>\n",
       "      <th>scaled_variance</th>\n",
       "      <th>scaled_variance.1</th>\n",
       "      <th>scaled_radius_of_gyration</th>\n",
       "      <th>scaled_radius_of_gyration.1</th>\n",
       "      <th>skewness_about</th>\n",
       "      <th>skewness_about.1</th>\n",
       "      <th>skewness_about.2</th>\n",
       "      <th>hollows_ratio</th>\n",
       "    </tr>\n",
       "  </thead>\n",
       "  <tbody>\n",
       "    <tr>\n",
       "      <th>count</th>\n",
       "      <td>846.000000</td>\n",
       "      <td>841.000000</td>\n",
       "      <td>842.000000</td>\n",
       "      <td>840.000000</td>\n",
       "      <td>844.000000</td>\n",
       "      <td>846.000000</td>\n",
       "      <td>845.000000</td>\n",
       "      <td>845.000000</td>\n",
       "      <td>843.000000</td>\n",
       "      <td>846.000000</td>\n",
       "      <td>843.000000</td>\n",
       "      <td>844.000000</td>\n",
       "      <td>844.000000</td>\n",
       "      <td>842.000000</td>\n",
       "      <td>840.000000</td>\n",
       "      <td>845.000000</td>\n",
       "      <td>845.000000</td>\n",
       "      <td>846.000000</td>\n",
       "    </tr>\n",
       "    <tr>\n",
       "      <th>mean</th>\n",
       "      <td>93.678487</td>\n",
       "      <td>44.828775</td>\n",
       "      <td>82.110451</td>\n",
       "      <td>168.888095</td>\n",
       "      <td>61.678910</td>\n",
       "      <td>8.567376</td>\n",
       "      <td>168.901775</td>\n",
       "      <td>40.933728</td>\n",
       "      <td>20.582444</td>\n",
       "      <td>147.998818</td>\n",
       "      <td>188.631079</td>\n",
       "      <td>439.494076</td>\n",
       "      <td>174.709716</td>\n",
       "      <td>72.447743</td>\n",
       "      <td>6.364286</td>\n",
       "      <td>12.602367</td>\n",
       "      <td>188.919527</td>\n",
       "      <td>195.632388</td>\n",
       "    </tr>\n",
       "    <tr>\n",
       "      <th>std</th>\n",
       "      <td>8.234474</td>\n",
       "      <td>6.152172</td>\n",
       "      <td>15.778292</td>\n",
       "      <td>33.520198</td>\n",
       "      <td>7.891463</td>\n",
       "      <td>4.601217</td>\n",
       "      <td>33.214848</td>\n",
       "      <td>7.816186</td>\n",
       "      <td>2.592933</td>\n",
       "      <td>14.515652</td>\n",
       "      <td>31.411004</td>\n",
       "      <td>176.666903</td>\n",
       "      <td>32.584808</td>\n",
       "      <td>7.486190</td>\n",
       "      <td>4.920649</td>\n",
       "      <td>8.936081</td>\n",
       "      <td>6.155809</td>\n",
       "      <td>7.438797</td>\n",
       "    </tr>\n",
       "    <tr>\n",
       "      <th>min</th>\n",
       "      <td>73.000000</td>\n",
       "      <td>33.000000</td>\n",
       "      <td>40.000000</td>\n",
       "      <td>104.000000</td>\n",
       "      <td>47.000000</td>\n",
       "      <td>2.000000</td>\n",
       "      <td>112.000000</td>\n",
       "      <td>26.000000</td>\n",
       "      <td>17.000000</td>\n",
       "      <td>118.000000</td>\n",
       "      <td>130.000000</td>\n",
       "      <td>184.000000</td>\n",
       "      <td>109.000000</td>\n",
       "      <td>59.000000</td>\n",
       "      <td>0.000000</td>\n",
       "      <td>0.000000</td>\n",
       "      <td>176.000000</td>\n",
       "      <td>181.000000</td>\n",
       "    </tr>\n",
       "    <tr>\n",
       "      <th>25%</th>\n",
       "      <td>87.000000</td>\n",
       "      <td>40.000000</td>\n",
       "      <td>70.000000</td>\n",
       "      <td>141.000000</td>\n",
       "      <td>57.000000</td>\n",
       "      <td>7.000000</td>\n",
       "      <td>147.000000</td>\n",
       "      <td>33.000000</td>\n",
       "      <td>19.000000</td>\n",
       "      <td>137.000000</td>\n",
       "      <td>167.000000</td>\n",
       "      <td>318.000000</td>\n",
       "      <td>149.000000</td>\n",
       "      <td>67.000000</td>\n",
       "      <td>2.000000</td>\n",
       "      <td>5.000000</td>\n",
       "      <td>184.000000</td>\n",
       "      <td>190.250000</td>\n",
       "    </tr>\n",
       "    <tr>\n",
       "      <th>50%</th>\n",
       "      <td>93.000000</td>\n",
       "      <td>44.000000</td>\n",
       "      <td>80.000000</td>\n",
       "      <td>167.000000</td>\n",
       "      <td>61.000000</td>\n",
       "      <td>8.000000</td>\n",
       "      <td>157.000000</td>\n",
       "      <td>43.000000</td>\n",
       "      <td>20.000000</td>\n",
       "      <td>146.000000</td>\n",
       "      <td>179.000000</td>\n",
       "      <td>363.500000</td>\n",
       "      <td>173.500000</td>\n",
       "      <td>71.500000</td>\n",
       "      <td>6.000000</td>\n",
       "      <td>11.000000</td>\n",
       "      <td>188.000000</td>\n",
       "      <td>197.000000</td>\n",
       "    </tr>\n",
       "    <tr>\n",
       "      <th>75%</th>\n",
       "      <td>100.000000</td>\n",
       "      <td>49.000000</td>\n",
       "      <td>98.000000</td>\n",
       "      <td>195.000000</td>\n",
       "      <td>65.000000</td>\n",
       "      <td>10.000000</td>\n",
       "      <td>198.000000</td>\n",
       "      <td>46.000000</td>\n",
       "      <td>23.000000</td>\n",
       "      <td>159.000000</td>\n",
       "      <td>217.000000</td>\n",
       "      <td>587.000000</td>\n",
       "      <td>198.000000</td>\n",
       "      <td>75.000000</td>\n",
       "      <td>9.000000</td>\n",
       "      <td>19.000000</td>\n",
       "      <td>193.000000</td>\n",
       "      <td>201.000000</td>\n",
       "    </tr>\n",
       "    <tr>\n",
       "      <th>max</th>\n",
       "      <td>119.000000</td>\n",
       "      <td>59.000000</td>\n",
       "      <td>112.000000</td>\n",
       "      <td>333.000000</td>\n",
       "      <td>138.000000</td>\n",
       "      <td>55.000000</td>\n",
       "      <td>265.000000</td>\n",
       "      <td>61.000000</td>\n",
       "      <td>29.000000</td>\n",
       "      <td>188.000000</td>\n",
       "      <td>320.000000</td>\n",
       "      <td>1018.000000</td>\n",
       "      <td>268.000000</td>\n",
       "      <td>135.000000</td>\n",
       "      <td>22.000000</td>\n",
       "      <td>41.000000</td>\n",
       "      <td>206.000000</td>\n",
       "      <td>211.000000</td>\n",
       "    </tr>\n",
       "  </tbody>\n",
       "</table>\n",
       "</div>"
      ],
      "text/plain": [
       "       compactness  circularity  distance_circularity  radius_ratio  \\\n",
       "count   846.000000   841.000000            842.000000    840.000000   \n",
       "mean     93.678487    44.828775             82.110451    168.888095   \n",
       "std       8.234474     6.152172             15.778292     33.520198   \n",
       "min      73.000000    33.000000             40.000000    104.000000   \n",
       "25%      87.000000    40.000000             70.000000    141.000000   \n",
       "50%      93.000000    44.000000             80.000000    167.000000   \n",
       "75%     100.000000    49.000000             98.000000    195.000000   \n",
       "max     119.000000    59.000000            112.000000    333.000000   \n",
       "\n",
       "       pr.axis_aspect_ratio  max.length_aspect_ratio  scatter_ratio  \\\n",
       "count            844.000000               846.000000     845.000000   \n",
       "mean              61.678910                 8.567376     168.901775   \n",
       "std                7.891463                 4.601217      33.214848   \n",
       "min               47.000000                 2.000000     112.000000   \n",
       "25%               57.000000                 7.000000     147.000000   \n",
       "50%               61.000000                 8.000000     157.000000   \n",
       "75%               65.000000                10.000000     198.000000   \n",
       "max              138.000000                55.000000     265.000000   \n",
       "\n",
       "       elongatedness  pr.axis_rectangularity  max.length_rectangularity  \\\n",
       "count     845.000000              843.000000                 846.000000   \n",
       "mean       40.933728               20.582444                 147.998818   \n",
       "std         7.816186                2.592933                  14.515652   \n",
       "min        26.000000               17.000000                 118.000000   \n",
       "25%        33.000000               19.000000                 137.000000   \n",
       "50%        43.000000               20.000000                 146.000000   \n",
       "75%        46.000000               23.000000                 159.000000   \n",
       "max        61.000000               29.000000                 188.000000   \n",
       "\n",
       "       scaled_variance  scaled_variance.1  scaled_radius_of_gyration  \\\n",
       "count       843.000000         844.000000                 844.000000   \n",
       "mean        188.631079         439.494076                 174.709716   \n",
       "std          31.411004         176.666903                  32.584808   \n",
       "min         130.000000         184.000000                 109.000000   \n",
       "25%         167.000000         318.000000                 149.000000   \n",
       "50%         179.000000         363.500000                 173.500000   \n",
       "75%         217.000000         587.000000                 198.000000   \n",
       "max         320.000000        1018.000000                 268.000000   \n",
       "\n",
       "       scaled_radius_of_gyration.1  skewness_about  skewness_about.1  \\\n",
       "count                   842.000000      840.000000        845.000000   \n",
       "mean                     72.447743        6.364286         12.602367   \n",
       "std                       7.486190        4.920649          8.936081   \n",
       "min                      59.000000        0.000000          0.000000   \n",
       "25%                      67.000000        2.000000          5.000000   \n",
       "50%                      71.500000        6.000000         11.000000   \n",
       "75%                      75.000000        9.000000         19.000000   \n",
       "max                     135.000000       22.000000         41.000000   \n",
       "\n",
       "       skewness_about.2  hollows_ratio  \n",
       "count        845.000000     846.000000  \n",
       "mean         188.919527     195.632388  \n",
       "std            6.155809       7.438797  \n",
       "min          176.000000     181.000000  \n",
       "25%          184.000000     190.250000  \n",
       "50%          188.000000     197.000000  \n",
       "75%          193.000000     201.000000  \n",
       "max          206.000000     211.000000  "
      ]
     },
     "execution_count": 5,
     "metadata": {},
     "output_type": "execute_result"
    }
   ],
   "source": [
    "df.describe()"
   ]
  },
  {
   "cell_type": "code",
   "execution_count": 6,
   "metadata": {},
   "outputs": [
    {
     "name": "stdout",
     "output_type": "stream",
     "text": [
      "<class 'pandas.core.frame.DataFrame'>\n",
      "RangeIndex: 846 entries, 0 to 845\n",
      "Data columns (total 19 columns):\n",
      " #   Column                       Non-Null Count  Dtype  \n",
      "---  ------                       --------------  -----  \n",
      " 0   compactness                  846 non-null    int64  \n",
      " 1   circularity                  841 non-null    float64\n",
      " 2   distance_circularity         842 non-null    float64\n",
      " 3   radius_ratio                 840 non-null    float64\n",
      " 4   pr.axis_aspect_ratio         844 non-null    float64\n",
      " 5   max.length_aspect_ratio      846 non-null    int64  \n",
      " 6   scatter_ratio                845 non-null    float64\n",
      " 7   elongatedness                845 non-null    float64\n",
      " 8   pr.axis_rectangularity       843 non-null    float64\n",
      " 9   max.length_rectangularity    846 non-null    int64  \n",
      " 10  scaled_variance              843 non-null    float64\n",
      " 11  scaled_variance.1            844 non-null    float64\n",
      " 12  scaled_radius_of_gyration    844 non-null    float64\n",
      " 13  scaled_radius_of_gyration.1  842 non-null    float64\n",
      " 14  skewness_about               840 non-null    float64\n",
      " 15  skewness_about.1             845 non-null    float64\n",
      " 16  skewness_about.2             845 non-null    float64\n",
      " 17  hollows_ratio                846 non-null    int64  \n",
      " 18  class                        846 non-null    object \n",
      "dtypes: float64(14), int64(4), object(1)\n",
      "memory usage: 125.7+ KB\n"
     ]
    }
   ],
   "source": [
    "df.info()"
   ]
  },
  {
   "cell_type": "code",
   "execution_count": 7,
   "metadata": {},
   "outputs": [
    {
     "data": {
      "text/plain": [
       "car    429\n",
       "bus    218\n",
       "van    199\n",
       "Name: class, dtype: int64"
      ]
     },
     "execution_count": 7,
     "metadata": {},
     "output_type": "execute_result"
    }
   ],
   "source": [
    "df[\"class\"].value_counts()"
   ]
  },
  {
   "cell_type": "code",
   "execution_count": 8,
   "metadata": {},
   "outputs": [],
   "source": [
    "df[\"class\"]=df[\"class\"].replace({\"car\":0,\"bus\":1,\"van\":2})\n",
    "df[\"class\"]=df[\"class\"].astype(int)"
   ]
  },
  {
   "cell_type": "code",
   "execution_count": 9,
   "metadata": {},
   "outputs": [
    {
     "data": {
      "text/plain": [
       "0    429\n",
       "1    218\n",
       "2    199\n",
       "Name: class, dtype: int64"
      ]
     },
     "execution_count": 9,
     "metadata": {},
     "output_type": "execute_result"
    }
   ],
   "source": [
    "df[\"class\"].value_counts()"
   ]
  },
  {
   "cell_type": "code",
   "execution_count": 10,
   "metadata": {},
   "outputs": [],
   "source": [
    "from sklearn.impute import KNNImputer\n",
    "knn=KNNImputer(n_neighbors=5)\n",
    "df_fill=knn.fit_transform(df)\n",
    "df=pd.DataFrame(df_fill,columns=df.columns)"
   ]
  },
  {
   "cell_type": "code",
   "execution_count": 11,
   "metadata": {},
   "outputs": [
    {
     "name": "stdout",
     "output_type": "stream",
     "text": [
      "<class 'pandas.core.frame.DataFrame'>\n",
      "RangeIndex: 846 entries, 0 to 845\n",
      "Data columns (total 19 columns):\n",
      " #   Column                       Non-Null Count  Dtype  \n",
      "---  ------                       --------------  -----  \n",
      " 0   compactness                  846 non-null    float64\n",
      " 1   circularity                  846 non-null    float64\n",
      " 2   distance_circularity         846 non-null    float64\n",
      " 3   radius_ratio                 846 non-null    float64\n",
      " 4   pr.axis_aspect_ratio         846 non-null    float64\n",
      " 5   max.length_aspect_ratio      846 non-null    float64\n",
      " 6   scatter_ratio                846 non-null    float64\n",
      " 7   elongatedness                846 non-null    float64\n",
      " 8   pr.axis_rectangularity       846 non-null    float64\n",
      " 9   max.length_rectangularity    846 non-null    float64\n",
      " 10  scaled_variance              846 non-null    float64\n",
      " 11  scaled_variance.1            846 non-null    float64\n",
      " 12  scaled_radius_of_gyration    846 non-null    float64\n",
      " 13  scaled_radius_of_gyration.1  846 non-null    float64\n",
      " 14  skewness_about               846 non-null    float64\n",
      " 15  skewness_about.1             846 non-null    float64\n",
      " 16  skewness_about.2             846 non-null    float64\n",
      " 17  hollows_ratio                846 non-null    float64\n",
      " 18  class                        846 non-null    float64\n",
      "dtypes: float64(19)\n",
      "memory usage: 125.7 KB\n"
     ]
    }
   ],
   "source": [
    "df.info()"
   ]
  },
  {
   "cell_type": "code",
   "execution_count": 12,
   "metadata": {},
   "outputs": [],
   "source": [
    "X=df.drop(\"class\",1)\n",
    "y=df[\"class\"]"
   ]
  },
  {
   "cell_type": "code",
   "execution_count": 13,
   "metadata": {},
   "outputs": [],
   "source": [
    "#sns.pairplot(data=df,vars=X.columns,hue='class',palette='husl');"
   ]
  },
  {
   "cell_type": "code",
   "execution_count": null,
   "metadata": {},
   "outputs": [],
   "source": [
    "df.corr()"
   ]
  },
  {
   "cell_type": "code",
   "execution_count": 14,
   "metadata": {},
   "outputs": [
    {
     "data": {
      "image/png": "[encoded data removed]",
      "text/plain": [
       "<Figure size 720x360 with 2 Axes>"
      ]
     },
     "metadata": {
      "needs_background": "light"
     },
     "output_type": "display_data"
    }
   ],
   "source": [
    "plt.figure(figsize=(10,5))\n",
    "sns.heatmap(df.corr());"
   ]
  },
  {
   "cell_type": "raw",
   "metadata": {},
   "source": [
    "- PCA should be used mainly for variables which are strongly correlated. If the relationship is weak between variables, PCA does not work well to reduce data. \n",
    "- On referring to the correlation matrix there seems to be a high multicollinearity among the features i.e., the coeff are greater than 0.9 in many cases. \n",
    "- Thus applying PCA is highly recommended."
   ]
  },
  {
   "cell_type": "code",
   "execution_count": 15,
   "metadata": {},
   "outputs": [],
   "source": [
    "from sklearn.preprocessing import StandardScaler\n",
    "ss=StandardScaler()"
   ]
  },
  {
   "cell_type": "code",
   "execution_count": 16,
   "metadata": {},
   "outputs": [
    {
     "data": {
      "text/html": [
       "<div>\n",
       "<style scoped>\n",
       "    .dataframe tbody tr th:only-of-type {\n",
       "        vertical-align: middle;\n",
       "    }\n",
       "\n",
       "    .dataframe tbody tr th {\n",
       "        vertical-align: top;\n",
       "    }\n",
       "\n",
       "    .dataframe thead th {\n",
       "        text-align: right;\n",
       "    }\n",
       "</style>\n",
       "<table border=\"1\" class=\"dataframe\">\n",
       "  <thead>\n",
       "    <tr style=\"text-align: right;\">\n",
       "      <th></th>\n",
       "      <th>compactness</th>\n",
       "      <th>circularity</th>\n",
       "      <th>distance_circularity</th>\n",
       "      <th>radius_ratio</th>\n",
       "      <th>pr.axis_aspect_ratio</th>\n",
       "      <th>max.length_aspect_ratio</th>\n",
       "      <th>scatter_ratio</th>\n",
       "      <th>elongatedness</th>\n",
       "      <th>pr.axis_rectangularity</th>\n",
       "      <th>max.length_rectangularity</th>\n",
       "      <th>scaled_variance</th>\n",
       "      <th>scaled_variance.1</th>\n",
       "      <th>scaled_radius_of_gyration</th>\n",
       "      <th>scaled_radius_of_gyration.1</th>\n",
       "      <th>skewness_about</th>\n",
       "      <th>skewness_about.1</th>\n",
       "      <th>skewness_about.2</th>\n",
       "      <th>hollows_ratio</th>\n",
       "    </tr>\n",
       "  </thead>\n",
       "  <tbody>\n",
       "    <tr>\n",
       "      <th>0</th>\n",
       "      <td>0.160580</td>\n",
       "      <td>0.508720</td>\n",
       "      <td>0.057317</td>\n",
       "      <td>0.270492</td>\n",
       "      <td>1.307904</td>\n",
       "      <td>0.311542</td>\n",
       "      <td>-0.205854</td>\n",
       "      <td>0.136540</td>\n",
       "      <td>-0.224944</td>\n",
       "      <td>0.758332</td>\n",
       "      <td>-0.402270</td>\n",
       "      <td>-0.344964</td>\n",
       "      <td>0.285596</td>\n",
       "      <td>-0.329616</td>\n",
       "      <td>-0.074893</td>\n",
       "      <td>0.380943</td>\n",
       "      <td>-0.313207</td>\n",
       "      <td>0.183957</td>\n",
       "    </tr>\n",
       "    <tr>\n",
       "      <th>1</th>\n",
       "      <td>-0.325470</td>\n",
       "      <td>-0.626668</td>\n",
       "      <td>0.120753</td>\n",
       "      <td>-0.836037</td>\n",
       "      <td>-0.595238</td>\n",
       "      <td>0.094079</td>\n",
       "      <td>-0.597126</td>\n",
       "      <td>0.520813</td>\n",
       "      <td>-0.610954</td>\n",
       "      <td>-0.344578</td>\n",
       "      <td>-0.593448</td>\n",
       "      <td>-0.622423</td>\n",
       "      <td>-0.513738</td>\n",
       "      <td>-0.062155</td>\n",
       "      <td>0.536683</td>\n",
       "      <td>0.156875</td>\n",
       "      <td>0.011874</td>\n",
       "      <td>0.452977</td>\n",
       "    </tr>\n",
       "    <tr>\n",
       "      <th>2</th>\n",
       "      <td>1.254193</td>\n",
       "      <td>0.833116</td>\n",
       "      <td>1.516344</td>\n",
       "      <td>1.197583</td>\n",
       "      <td>0.546647</td>\n",
       "      <td>0.311542</td>\n",
       "      <td>1.148550</td>\n",
       "      <td>-1.144371</td>\n",
       "      <td>0.933086</td>\n",
       "      <td>0.689401</td>\n",
       "      <td>1.095284</td>\n",
       "      <td>1.104614</td>\n",
       "      <td>1.392366</td>\n",
       "      <td>0.071576</td>\n",
       "      <td>1.555976</td>\n",
       "      <td>-0.403297</td>\n",
       "      <td>-0.150667</td>\n",
       "      <td>0.049447</td>\n",
       "    </tr>\n",
       "    <tr>\n",
       "      <th>3</th>\n",
       "      <td>-0.082445</td>\n",
       "      <td>-0.626668</td>\n",
       "      <td>-0.006119</td>\n",
       "      <td>-0.297725</td>\n",
       "      <td>0.166019</td>\n",
       "      <td>0.094079</td>\n",
       "      <td>-0.747615</td>\n",
       "      <td>0.648904</td>\n",
       "      <td>-0.610954</td>\n",
       "      <td>-0.344578</td>\n",
       "      <td>-0.912076</td>\n",
       "      <td>-0.741333</td>\n",
       "      <td>-1.466790</td>\n",
       "      <td>-1.265729</td>\n",
       "      <td>-0.074893</td>\n",
       "      <td>-0.291263</td>\n",
       "      <td>1.637278</td>\n",
       "      <td>1.529056</td>\n",
       "    </tr>\n",
       "    <tr>\n",
       "      <th>4</th>\n",
       "      <td>-1.054545</td>\n",
       "      <td>-0.140073</td>\n",
       "      <td>-0.767350</td>\n",
       "      <td>1.077958</td>\n",
       "      <td>5.241065</td>\n",
       "      <td>9.444962</td>\n",
       "      <td>-0.597126</td>\n",
       "      <td>0.520813</td>\n",
       "      <td>-0.610954</td>\n",
       "      <td>-0.275646</td>\n",
       "      <td>1.668815</td>\n",
       "      <td>-0.650735</td>\n",
       "      <td>0.408570</td>\n",
       "      <td>7.293024</td>\n",
       "      <td>0.536683</td>\n",
       "      <td>-0.179228</td>\n",
       "      <td>-1.450991</td>\n",
       "      <td>-1.699181</td>\n",
       "    </tr>\n",
       "  </tbody>\n",
       "</table>\n",
       "</div>"
      ],
      "text/plain": [
       "   compactness  circularity  distance_circularity  radius_ratio  \\\n",
       "0     0.160580     0.508720              0.057317      0.270492   \n",
       "1    -0.325470    -0.626668              0.120753     -0.836037   \n",
       "2     1.254193     0.833116              1.516344      1.197583   \n",
       "3    -0.082445    -0.626668             -0.006119     -0.297725   \n",
       "4    -1.054545    -0.140073             -0.767350      1.077958   \n",
       "\n",
       "   pr.axis_aspect_ratio  max.length_aspect_ratio  scatter_ratio  \\\n",
       "0              1.307904                 0.311542      -0.205854   \n",
       "1             -0.595238                 0.094079      -0.597126   \n",
       "2              0.546647                 0.311542       1.148550   \n",
       "3              0.166019                 0.094079      -0.747615   \n",
       "4              5.241065                 9.444962      -0.597126   \n",
       "\n",
       "   elongatedness  pr.axis_rectangularity  max.length_rectangularity  \\\n",
       "0       0.136540               -0.224944                   0.758332   \n",
       "1       0.520813               -0.610954                  -0.344578   \n",
       "2      -1.144371                0.933086                   0.689401   \n",
       "3       0.648904               -0.610954                  -0.344578   \n",
       "4       0.520813               -0.610954                  -0.275646   \n",
       "\n",
       "   scaled_variance  scaled_variance.1  scaled_radius_of_gyration  \\\n",
       "0        -0.402270          -0.344964                   0.285596   \n",
       "1        -0.593448          -0.622423                  -0.513738   \n",
       "2         1.095284           1.104614                   1.392366   \n",
       "3        -0.912076          -0.741333                  -1.466790   \n",
       "4         1.668815          -0.650735                   0.408570   \n",
       "\n",
       "   scaled_radius_of_gyration.1  skewness_about  skewness_about.1  \\\n",
       "0                    -0.329616       -0.074893          0.380943   \n",
       "1                    -0.062155        0.536683          0.156875   \n",
       "2                     0.071576        1.555976         -0.403297   \n",
       "3                    -1.265729       -0.074893         -0.291263   \n",
       "4                     7.293024        0.536683         -0.179228   \n",
       "\n",
       "   skewness_about.2  hollows_ratio  \n",
       "0         -0.313207       0.183957  \n",
       "1          0.011874       0.452977  \n",
       "2         -0.150667       0.049447  \n",
       "3          1.637278       1.529056  \n",
       "4         -1.450991      -1.699181  "
      ]
     },
     "execution_count": 16,
     "metadata": {},
     "output_type": "execute_result"
    }
   ],
   "source": [
    "Xs=ss.fit_transform(X)\n",
    "Xs=pd.DataFrame(Xs,columns=X.columns)\n",
    "Xs.head()"
   ]
  },
  {
   "cell_type": "code",
   "execution_count": 17,
   "metadata": {},
   "outputs": [],
   "source": [
    "from sklearn.model_selection import train_test_split\n",
    "\n",
    "X_train, X_test, y_train, y_test = train_test_split(Xs, y, test_size = 0.2, random_state = 0)"
   ]
  },
  {
   "cell_type": "code",
   "execution_count": 18,
   "metadata": {},
   "outputs": [],
   "source": [
    "from sklearn.linear_model import LogisticRegression\n",
    "\n",
    "lr = LogisticRegression()\n",
    "lr.fit(X_train, y_train)\n",
    "\n",
    "y_pred_train = lr.predict(X_train)\n",
    "y_pred_test = lr.predict(X_test)"
   ]
  },
  {
   "cell_type": "code",
   "execution_count": 19,
   "metadata": {},
   "outputs": [
    {
     "name": "stdout",
     "output_type": "stream",
     "text": [
      " For train data :  0.9615384615384616 \n",
      " For test data  :  0.9411764705882353\n"
     ]
    }
   ],
   "source": [
    "from sklearn.metrics import f1_score\n",
    "\n",
    "print(' For train data : ', f1_score(y_train, y_pred_train,average=\"micro\"), '\\n', \n",
    "      'For test data  : ', f1_score(y_test, y_pred_test,average=\"micro\"))"
   ]
  },
  {
   "cell_type": "markdown",
   "metadata": {},
   "source": [
    "- Model is slightly overfit"
   ]
  },
  {
   "cell_type": "markdown",
   "metadata": {},
   "source": [
    "### PCA"
   ]
  },
  {
   "cell_type": "code",
   "execution_count": 20,
   "metadata": {},
   "outputs": [],
   "source": [
    "from sklearn.decomposition import PCA\n",
    "pca=PCA()"
   ]
  },
  {
   "cell_type": "code",
   "execution_count": 21,
   "metadata": {},
   "outputs": [
    {
     "data": {
      "text/plain": [
       "array([[ 3.29746491e-01, -2.15834609e-01,  9.97247966e-01, ...,\n",
       "        -8.00071310e-02,  1.81508631e-02, -4.61364308e-02],\n",
       "       [-1.59447824e+00, -4.22978582e-01, -3.70001874e-01, ...,\n",
       "         4.12484780e-02, -3.97114257e-02,  2.60082775e-02],\n",
       "       [ 3.76079942e+00,  1.86850805e-01,  8.79712974e-02, ...,\n",
       "         1.33919117e-01, -1.71365864e-01, -1.53803210e-02],\n",
       "       ...,\n",
       "       [ 4.79973231e+00, -2.89856992e-03,  5.31680737e-01, ...,\n",
       "         5.01807673e-02,  2.62419155e-02, -5.16868994e-03],\n",
       "       [-3.29481481e+00, -1.00701629e+00, -3.55381964e-01, ...,\n",
       "         8.13190248e-02, -6.88304295e-02, -1.10170685e-02],\n",
       "       [-4.76263149e+00,  3.37171165e-01, -5.71952003e-01, ...,\n",
       "         5.84621498e-02, -1.04410314e-01,  1.15369147e-02]])"
      ]
     },
     "execution_count": 21,
     "metadata": {},
     "output_type": "execute_result"
    }
   ],
   "source": [
    "pca.fit_transform(Xs)"
   ]
  },
  {
   "cell_type": "code",
   "execution_count": 22,
   "metadata": {},
   "outputs": [
    {
     "data": {
      "text/plain": [
       "array([5.23842715e-01, 1.67922206e-01, 1.05489449e-01, 6.54626098e-02,\n",
       "       5.07963290e-02, 2.96175664e-02, 1.97685972e-02, 1.22336746e-02,\n",
       "       8.76239809e-03, 5.05408102e-03, 3.50247758e-03, 2.44109126e-03,\n",
       "       1.94607302e-03, 1.18993618e-03, 8.85813314e-04, 7.20022354e-04,\n",
       "       3.44709645e-04, 2.02501932e-05])"
      ]
     },
     "execution_count": 22,
     "metadata": {},
     "output_type": "execute_result"
    }
   ],
   "source": [
    "pca.explained_variance_ratio_"
   ]
  },
  {
   "cell_type": "code",
   "execution_count": 23,
   "metadata": {},
   "outputs": [
    {
     "data": {
      "text/plain": [
       "array([0.52384272, 0.69176492, 0.79725437, 0.86271698, 0.91351331,\n",
       "       0.94313088, 0.96289947, 0.97513315, 0.98389555, 0.98894963,\n",
       "       0.9924521 , 0.9948932 , 0.99683927, 0.9980292 , 0.99891502,\n",
       "       0.99963504, 0.99997975, 1.        ])"
      ]
     },
     "execution_count": 23,
     "metadata": {},
     "output_type": "execute_result"
    }
   ],
   "source": [
    "np.cumsum(pca.explained_variance_ratio_)"
   ]
  },
  {
   "cell_type": "code",
   "execution_count": 24,
   "metadata": {},
   "outputs": [
    {
     "data": {
      "text/plain": [
       "18"
      ]
     },
     "execution_count": 24,
     "metadata": {},
     "output_type": "execute_result"
    }
   ],
   "source": [
    "len(np.cumsum(pca.explained_variance_ratio_))"
   ]
  },
  {
   "cell_type": "code",
   "execution_count": 25,
   "metadata": {},
   "outputs": [
    {
     "data": {
      "image/png": "[encoded data removed]",
      "text/plain": [
       "<Figure size 432x288 with 1 Axes>"
      ]
     },
     "metadata": {
      "needs_background": "light"
     },
     "output_type": "display_data"
    }
   ],
   "source": [
    "#plt.plot(, np.cumsum(pca.explained_variance_ratio_))\n",
    "plt.plot(np.cumsum(pca.explained_variance_ratio_))\n",
    "plt.xlabel('Principle Components')\n",
    "plt.ylabel('Cumulative explained variance')\n",
    "plt.show()"
   ]
  },
  {
   "cell_type": "raw",
   "metadata": {},
   "source": [
    "Note: The figure gives the proportion of variance captured by number of components. It shows that almost 7 components are required to capture atleast 95% of the variance in data. "
   ]
  },
  {
   "cell_type": "code",
   "execution_count": 26,
   "metadata": {},
   "outputs": [
    {
     "data": {
      "text/plain": [
       "(846, 7)"
      ]
     },
     "execution_count": 26,
     "metadata": {},
     "output_type": "execute_result"
    }
   ],
   "source": [
    "pca=PCA(0.95,whiten=True)\n",
    "X_pca=pca.fit_transform(Xs)\n",
    "X_pca.shape"
   ]
  },
  {
   "cell_type": "raw",
   "metadata": {},
   "source": [
    "- After transformation of the original data into components, we obtain a transformed dataset with the shape (846,7)"
   ]
  },
  {
   "cell_type": "code",
   "execution_count": 27,
   "metadata": {},
   "outputs": [
    {
     "data": {
      "text/html": [
       "<div>\n",
       "<style scoped>\n",
       "    .dataframe tbody tr th:only-of-type {\n",
       "        vertical-align: middle;\n",
       "    }\n",
       "\n",
       "    .dataframe tbody tr th {\n",
       "        vertical-align: top;\n",
       "    }\n",
       "\n",
       "    .dataframe thead th {\n",
       "        text-align: right;\n",
       "    }\n",
       "</style>\n",
       "<table border=\"1\" class=\"dataframe\">\n",
       "  <thead>\n",
       "    <tr style=\"text-align: right;\">\n",
       "      <th></th>\n",
       "      <th>pc1</th>\n",
       "      <th>pca2</th>\n",
       "      <th>pc3</th>\n",
       "      <th>pc4</th>\n",
       "      <th>pc5</th>\n",
       "      <th>pc6</th>\n",
       "      <th>pc7</th>\n",
       "    </tr>\n",
       "  </thead>\n",
       "  <tbody>\n",
       "    <tr>\n",
       "      <th>0</th>\n",
       "      <td>0.107321</td>\n",
       "      <td>-0.124072</td>\n",
       "      <td>0.723279</td>\n",
       "      <td>0.157884</td>\n",
       "      <td>0.085650</td>\n",
       "      <td>-0.996417</td>\n",
       "      <td>-1.533207</td>\n",
       "    </tr>\n",
       "    <tr>\n",
       "      <th>1</th>\n",
       "      <td>-0.518949</td>\n",
       "      <td>-0.243148</td>\n",
       "      <td>-0.268353</td>\n",
       "      <td>0.213136</td>\n",
       "      <td>0.722556</td>\n",
       "      <td>-0.725155</td>\n",
       "      <td>0.599935</td>\n",
       "    </tr>\n",
       "    <tr>\n",
       "      <th>2</th>\n",
       "      <td>1.224015</td>\n",
       "      <td>0.107411</td>\n",
       "      <td>0.063803</td>\n",
       "      <td>1.107371</td>\n",
       "      <td>0.762672</td>\n",
       "      <td>0.962030</td>\n",
       "      <td>-0.023044</td>\n",
       "    </tr>\n",
       "    <tr>\n",
       "      <th>3</th>\n",
       "      <td>-0.567064</td>\n",
       "      <td>-1.624308</td>\n",
       "      <td>0.080637</td>\n",
       "      <td>0.345189</td>\n",
       "      <td>-0.387463</td>\n",
       "      <td>-0.689617</td>\n",
       "      <td>0.759757</td>\n",
       "    </tr>\n",
       "    <tr>\n",
       "      <th>4</th>\n",
       "      <td>0.178899</td>\n",
       "      <td>2.738631</td>\n",
       "      <td>8.477903</td>\n",
       "      <td>0.150836</td>\n",
       "      <td>3.404368</td>\n",
       "      <td>-0.412276</td>\n",
       "      <td>4.449287</td>\n",
       "    </tr>\n",
       "  </tbody>\n",
       "</table>\n",
       "</div>"
      ],
      "text/plain": [
       "        pc1      pca2       pc3       pc4       pc5       pc6       pc7\n",
       "0  0.107321 -0.124072  0.723279  0.157884  0.085650 -0.996417 -1.533207\n",
       "1 -0.518949 -0.243148 -0.268353  0.213136  0.722556 -0.725155  0.599935\n",
       "2  1.224015  0.107411  0.063803  1.107371  0.762672  0.962030 -0.023044\n",
       "3 -0.567064 -1.624308  0.080637  0.345189 -0.387463 -0.689617  0.759757\n",
       "4  0.178899  2.738631  8.477903  0.150836  3.404368 -0.412276  4.449287"
      ]
     },
     "execution_count": 27,
     "metadata": {},
     "output_type": "execute_result"
    }
   ],
   "source": [
    "X_pca = pd.DataFrame(X_pca, columns = ['pc1', 'pca2', 'pc3', 'pc4', 'pc5','pc6','pc7'])\n",
    "X_pca.head()"
   ]
  },
  {
   "cell_type": "code",
   "execution_count": 28,
   "metadata": {},
   "outputs": [
    {
     "data": {
      "text/html": [
       "<div>\n",
       "<style scoped>\n",
       "    .dataframe tbody tr th:only-of-type {\n",
       "        vertical-align: middle;\n",
       "    }\n",
       "\n",
       "    .dataframe tbody tr th {\n",
       "        vertical-align: top;\n",
       "    }\n",
       "\n",
       "    .dataframe thead th {\n",
       "        text-align: right;\n",
       "    }\n",
       "</style>\n",
       "<table border=\"1\" class=\"dataframe\">\n",
       "  <thead>\n",
       "    <tr style=\"text-align: right;\">\n",
       "      <th></th>\n",
       "      <th>compactness</th>\n",
       "      <th>circularity</th>\n",
       "      <th>distance_circularity</th>\n",
       "      <th>radius_ratio</th>\n",
       "      <th>pr.axis_aspect_ratio</th>\n",
       "      <th>max.length_aspect_ratio</th>\n",
       "      <th>scatter_ratio</th>\n",
       "      <th>elongatedness</th>\n",
       "      <th>pr.axis_rectangularity</th>\n",
       "      <th>max.length_rectangularity</th>\n",
       "      <th>scaled_variance</th>\n",
       "      <th>scaled_variance.1</th>\n",
       "      <th>scaled_radius_of_gyration</th>\n",
       "      <th>scaled_radius_of_gyration.1</th>\n",
       "      <th>skewness_about</th>\n",
       "      <th>skewness_about.1</th>\n",
       "      <th>skewness_about.2</th>\n",
       "      <th>hollows_ratio</th>\n",
       "    </tr>\n",
       "  </thead>\n",
       "  <tbody>\n",
       "    <tr>\n",
       "      <th>0</th>\n",
       "      <td>0.274832</td>\n",
       "      <td>0.295011</td>\n",
       "      <td>0.304449</td>\n",
       "      <td>0.267736</td>\n",
       "      <td>0.080502</td>\n",
       "      <td>0.096734</td>\n",
       "      <td>0.316974</td>\n",
       "      <td>-0.313578</td>\n",
       "      <td>0.313920</td>\n",
       "      <td>0.282334</td>\n",
       "      <td>0.309413</td>\n",
       "      <td>0.314367</td>\n",
       "      <td>0.271719</td>\n",
       "      <td>-0.021183</td>\n",
       "      <td>0.041466</td>\n",
       "      <td>0.057636</td>\n",
       "      <td>0.029489</td>\n",
       "      <td>0.073559</td>\n",
       "    </tr>\n",
       "    <tr>\n",
       "      <th>1</th>\n",
       "      <td>-0.127659</td>\n",
       "      <td>0.130073</td>\n",
       "      <td>-0.074809</td>\n",
       "      <td>-0.188896</td>\n",
       "      <td>-0.121175</td>\n",
       "      <td>0.011023</td>\n",
       "      <td>0.047104</td>\n",
       "      <td>0.013388</td>\n",
       "      <td>0.059950</td>\n",
       "      <td>0.115679</td>\n",
       "      <td>0.061907</td>\n",
       "      <td>0.051611</td>\n",
       "      <td>0.208658</td>\n",
       "      <td>0.489069</td>\n",
       "      <td>-0.057094</td>\n",
       "      <td>-0.124692</td>\n",
       "      <td>-0.540655</td>\n",
       "      <td>-0.539435</td>\n",
       "    </tr>\n",
       "    <tr>\n",
       "      <th>2</th>\n",
       "      <td>-0.119288</td>\n",
       "      <td>-0.029979</td>\n",
       "      <td>-0.055436</td>\n",
       "      <td>0.274809</td>\n",
       "      <td>0.642809</td>\n",
       "      <td>0.592126</td>\n",
       "      <td>-0.096355</td>\n",
       "      <td>0.056555</td>\n",
       "      <td>-0.109165</td>\n",
       "      <td>-0.017019</td>\n",
       "      <td>0.056757</td>\n",
       "      <td>-0.107765</td>\n",
       "      <td>-0.031300</td>\n",
       "      <td>0.285044</td>\n",
       "      <td>-0.115755</td>\n",
       "      <td>-0.074888</td>\n",
       "      <td>0.009248</td>\n",
       "      <td>0.040189</td>\n",
       "    </tr>\n",
       "    <tr>\n",
       "      <th>3</th>\n",
       "      <td>0.078264</td>\n",
       "      <td>0.184803</td>\n",
       "      <td>-0.070778</td>\n",
       "      <td>-0.042638</td>\n",
       "      <td>0.035041</td>\n",
       "      <td>0.030808</td>\n",
       "      <td>-0.094881</td>\n",
       "      <td>0.083593</td>\n",
       "      <td>-0.092082</td>\n",
       "      <td>0.185336</td>\n",
       "      <td>-0.116249</td>\n",
       "      <td>-0.091659</td>\n",
       "      <td>0.199260</td>\n",
       "      <td>-0.065131</td>\n",
       "      <td>0.606264</td>\n",
       "      <td>-0.667194</td>\n",
       "      <td>0.105391</td>\n",
       "      <td>0.047186</td>\n",
       "    </tr>\n",
       "    <tr>\n",
       "      <th>4</th>\n",
       "      <td>0.068351</td>\n",
       "      <td>-0.082851</td>\n",
       "      <td>0.040325</td>\n",
       "      <td>-0.045318</td>\n",
       "      <td>-0.042442</td>\n",
       "      <td>0.214420</td>\n",
       "      <td>-0.016724</td>\n",
       "      <td>0.076976</td>\n",
       "      <td>0.000477</td>\n",
       "      <td>-0.058793</td>\n",
       "      <td>-0.000266</td>\n",
       "      <td>-0.019212</td>\n",
       "      <td>-0.059768</td>\n",
       "      <td>0.144905</td>\n",
       "      <td>0.727998</td>\n",
       "      <td>0.600846</td>\n",
       "      <td>-0.102145</td>\n",
       "      <td>-0.031239</td>\n",
       "    </tr>\n",
       "    <tr>\n",
       "      <th>5</th>\n",
       "      <td>0.135070</td>\n",
       "      <td>-0.281612</td>\n",
       "      <td>-0.135601</td>\n",
       "      <td>0.255839</td>\n",
       "      <td>0.246961</td>\n",
       "      <td>-0.435585</td>\n",
       "      <td>0.113230</td>\n",
       "      <td>-0.143023</td>\n",
       "      <td>0.091754</td>\n",
       "      <td>-0.465512</td>\n",
       "      <td>0.233618</td>\n",
       "      <td>0.149987</td>\n",
       "      <td>-0.132880</td>\n",
       "      <td>0.237763</td>\n",
       "      <td>0.205261</td>\n",
       "      <td>-0.178246</td>\n",
       "      <td>0.152965</td>\n",
       "      <td>-0.246829</td>\n",
       "    </tr>\n",
       "    <tr>\n",
       "      <th>6</th>\n",
       "      <td>0.461888</td>\n",
       "      <td>-0.240784</td>\n",
       "      <td>0.067149</td>\n",
       "      <td>-0.169783</td>\n",
       "      <td>-0.390610</td>\n",
       "      <td>0.489446</td>\n",
       "      <td>0.067577</td>\n",
       "      <td>0.010047</td>\n",
       "      <td>0.098634</td>\n",
       "      <td>-0.123613</td>\n",
       "      <td>0.124152</td>\n",
       "      <td>0.084206</td>\n",
       "      <td>-0.385707</td>\n",
       "      <td>0.118027</td>\n",
       "      <td>-0.074456</td>\n",
       "      <td>-0.286888</td>\n",
       "      <td>0.021670</td>\n",
       "      <td>0.003717</td>\n",
       "    </tr>\n",
       "  </tbody>\n",
       "</table>\n",
       "</div>"
      ],
      "text/plain": [
       "   compactness  circularity  distance_circularity  radius_ratio  \\\n",
       "0     0.274832     0.295011              0.304449      0.267736   \n",
       "1    -0.127659     0.130073             -0.074809     -0.188896   \n",
       "2    -0.119288    -0.029979             -0.055436      0.274809   \n",
       "3     0.078264     0.184803             -0.070778     -0.042638   \n",
       "4     0.068351    -0.082851              0.040325     -0.045318   \n",
       "5     0.135070    -0.281612             -0.135601      0.255839   \n",
       "6     0.461888    -0.240784              0.067149     -0.169783   \n",
       "\n",
       "   pr.axis_aspect_ratio  max.length_aspect_ratio  scatter_ratio  \\\n",
       "0              0.080502                 0.096734       0.316974   \n",
       "1             -0.121175                 0.011023       0.047104   \n",
       "2              0.642809                 0.592126      -0.096355   \n",
       "3              0.035041                 0.030808      -0.094881   \n",
       "4             -0.042442                 0.214420      -0.016724   \n",
       "5              0.246961                -0.435585       0.113230   \n",
       "6             -0.390610                 0.489446       0.067577   \n",
       "\n",
       "   elongatedness  pr.axis_rectangularity  max.length_rectangularity  \\\n",
       "0      -0.313578                0.313920                   0.282334   \n",
       "1       0.013388                0.059950                   0.115679   \n",
       "2       0.056555               -0.109165                  -0.017019   \n",
       "3       0.083593               -0.092082                   0.185336   \n",
       "4       0.076976                0.000477                  -0.058793   \n",
       "5      -0.143023                0.091754                  -0.465512   \n",
       "6       0.010047                0.098634                  -0.123613   \n",
       "\n",
       "   scaled_variance  scaled_variance.1  scaled_radius_of_gyration  \\\n",
       "0         0.309413           0.314367                   0.271719   \n",
       "1         0.061907           0.051611                   0.208658   \n",
       "2         0.056757          -0.107765                  -0.031300   \n",
       "3        -0.116249          -0.091659                   0.199260   \n",
       "4        -0.000266          -0.019212                  -0.059768   \n",
       "5         0.233618           0.149987                  -0.132880   \n",
       "6         0.124152           0.084206                  -0.385707   \n",
       "\n",
       "   scaled_radius_of_gyration.1  skewness_about  skewness_about.1  \\\n",
       "0                    -0.021183        0.041466          0.057636   \n",
       "1                     0.489069       -0.057094         -0.124692   \n",
       "2                     0.285044       -0.115755         -0.074888   \n",
       "3                    -0.065131        0.606264         -0.667194   \n",
       "4                     0.144905        0.727998          0.600846   \n",
       "5                     0.237763        0.205261         -0.178246   \n",
       "6                     0.118027       -0.074456         -0.286888   \n",
       "\n",
       "   skewness_about.2  hollows_ratio  \n",
       "0          0.029489       0.073559  \n",
       "1         -0.540655      -0.539435  \n",
       "2          0.009248       0.040189  \n",
       "3          0.105391       0.047186  \n",
       "4         -0.102145      -0.031239  \n",
       "5          0.152965      -0.246829  \n",
       "6          0.021670       0.003717  "
      ]
     },
     "execution_count": 28,
     "metadata": {},
     "output_type": "execute_result"
    }
   ],
   "source": [
    "pd.DataFrame(pca.components_,columns=X.columns)"
   ]
  },
  {
   "cell_type": "code",
   "execution_count": 29,
   "metadata": {},
   "outputs": [
    {
     "name": "stdout",
     "output_type": "stream",
     "text": [
      "(18, 7)\n"
     ]
    },
    {
     "data": {
      "text/html": [
       "<div>\n",
       "<style scoped>\n",
       "    .dataframe tbody tr th:only-of-type {\n",
       "        vertical-align: middle;\n",
       "    }\n",
       "\n",
       "    .dataframe tbody tr th {\n",
       "        vertical-align: top;\n",
       "    }\n",
       "\n",
       "    .dataframe thead th {\n",
       "        text-align: right;\n",
       "    }\n",
       "</style>\n",
       "<table border=\"1\" class=\"dataframe\">\n",
       "  <thead>\n",
       "    <tr style=\"text-align: right;\">\n",
       "      <th></th>\n",
       "      <th>pc1</th>\n",
       "      <th>pc2</th>\n",
       "      <th>pc3</th>\n",
       "      <th>pc4</th>\n",
       "      <th>pc5</th>\n",
       "      <th>pc6</th>\n",
       "      <th>pc7</th>\n",
       "    </tr>\n",
       "  </thead>\n",
       "  <tbody>\n",
       "    <tr>\n",
       "      <th>compactness</th>\n",
       "      <td>0.274832</td>\n",
       "      <td>-0.127659</td>\n",
       "      <td>-0.119288</td>\n",
       "      <td>0.078264</td>\n",
       "      <td>0.068351</td>\n",
       "      <td>0.135070</td>\n",
       "      <td>0.461888</td>\n",
       "    </tr>\n",
       "    <tr>\n",
       "      <th>circularity</th>\n",
       "      <td>0.295011</td>\n",
       "      <td>0.130073</td>\n",
       "      <td>-0.029979</td>\n",
       "      <td>0.184803</td>\n",
       "      <td>-0.082851</td>\n",
       "      <td>-0.281612</td>\n",
       "      <td>-0.240784</td>\n",
       "    </tr>\n",
       "    <tr>\n",
       "      <th>distance_circularity</th>\n",
       "      <td>0.304449</td>\n",
       "      <td>-0.074809</td>\n",
       "      <td>-0.055436</td>\n",
       "      <td>-0.070778</td>\n",
       "      <td>0.040325</td>\n",
       "      <td>-0.135601</td>\n",
       "      <td>0.067149</td>\n",
       "    </tr>\n",
       "    <tr>\n",
       "      <th>radius_ratio</th>\n",
       "      <td>0.267736</td>\n",
       "      <td>-0.188896</td>\n",
       "      <td>0.274809</td>\n",
       "      <td>-0.042638</td>\n",
       "      <td>-0.045318</td>\n",
       "      <td>0.255839</td>\n",
       "      <td>-0.169783</td>\n",
       "    </tr>\n",
       "    <tr>\n",
       "      <th>pr.axis_aspect_ratio</th>\n",
       "      <td>0.080502</td>\n",
       "      <td>-0.121175</td>\n",
       "      <td>0.642809</td>\n",
       "      <td>0.035041</td>\n",
       "      <td>-0.042442</td>\n",
       "      <td>0.246961</td>\n",
       "      <td>-0.390610</td>\n",
       "    </tr>\n",
       "    <tr>\n",
       "      <th>max.length_aspect_ratio</th>\n",
       "      <td>0.096734</td>\n",
       "      <td>0.011023</td>\n",
       "      <td>0.592126</td>\n",
       "      <td>0.030808</td>\n",
       "      <td>0.214420</td>\n",
       "      <td>-0.435585</td>\n",
       "      <td>0.489446</td>\n",
       "    </tr>\n",
       "    <tr>\n",
       "      <th>scatter_ratio</th>\n",
       "      <td>0.316974</td>\n",
       "      <td>0.047104</td>\n",
       "      <td>-0.096355</td>\n",
       "      <td>-0.094881</td>\n",
       "      <td>-0.016724</td>\n",
       "      <td>0.113230</td>\n",
       "      <td>0.067577</td>\n",
       "    </tr>\n",
       "    <tr>\n",
       "      <th>elongatedness</th>\n",
       "      <td>-0.313578</td>\n",
       "      <td>0.013388</td>\n",
       "      <td>0.056555</td>\n",
       "      <td>0.083593</td>\n",
       "      <td>0.076976</td>\n",
       "      <td>-0.143023</td>\n",
       "      <td>0.010047</td>\n",
       "    </tr>\n",
       "    <tr>\n",
       "      <th>pr.axis_rectangularity</th>\n",
       "      <td>0.313920</td>\n",
       "      <td>0.059950</td>\n",
       "      <td>-0.109165</td>\n",
       "      <td>-0.092082</td>\n",
       "      <td>0.000477</td>\n",
       "      <td>0.091754</td>\n",
       "      <td>0.098634</td>\n",
       "    </tr>\n",
       "    <tr>\n",
       "      <th>max.length_rectangularity</th>\n",
       "      <td>0.282334</td>\n",
       "      <td>0.115679</td>\n",
       "      <td>-0.017019</td>\n",
       "      <td>0.185336</td>\n",
       "      <td>-0.058793</td>\n",
       "      <td>-0.465512</td>\n",
       "      <td>-0.123613</td>\n",
       "    </tr>\n",
       "    <tr>\n",
       "      <th>scaled_variance</th>\n",
       "      <td>0.309413</td>\n",
       "      <td>0.061907</td>\n",
       "      <td>0.056757</td>\n",
       "      <td>-0.116249</td>\n",
       "      <td>-0.000266</td>\n",
       "      <td>0.233618</td>\n",
       "      <td>0.124152</td>\n",
       "    </tr>\n",
       "    <tr>\n",
       "      <th>scaled_variance.1</th>\n",
       "      <td>0.314367</td>\n",
       "      <td>0.051611</td>\n",
       "      <td>-0.107765</td>\n",
       "      <td>-0.091659</td>\n",
       "      <td>-0.019212</td>\n",
       "      <td>0.149987</td>\n",
       "      <td>0.084206</td>\n",
       "    </tr>\n",
       "    <tr>\n",
       "      <th>scaled_radius_of_gyration</th>\n",
       "      <td>0.271719</td>\n",
       "      <td>0.208658</td>\n",
       "      <td>-0.031300</td>\n",
       "      <td>0.199260</td>\n",
       "      <td>-0.059768</td>\n",
       "      <td>-0.132880</td>\n",
       "      <td>-0.385707</td>\n",
       "    </tr>\n",
       "    <tr>\n",
       "      <th>scaled_radius_of_gyration.1</th>\n",
       "      <td>-0.021183</td>\n",
       "      <td>0.489069</td>\n",
       "      <td>0.285044</td>\n",
       "      <td>-0.065131</td>\n",
       "      <td>0.144905</td>\n",
       "      <td>0.237763</td>\n",
       "      <td>0.118027</td>\n",
       "    </tr>\n",
       "    <tr>\n",
       "      <th>skewness_about</th>\n",
       "      <td>0.041466</td>\n",
       "      <td>-0.057094</td>\n",
       "      <td>-0.115755</td>\n",
       "      <td>0.606264</td>\n",
       "      <td>0.727998</td>\n",
       "      <td>0.205261</td>\n",
       "      <td>-0.074456</td>\n",
       "    </tr>\n",
       "    <tr>\n",
       "      <th>skewness_about.1</th>\n",
       "      <td>0.057636</td>\n",
       "      <td>-0.124692</td>\n",
       "      <td>-0.074888</td>\n",
       "      <td>-0.667194</td>\n",
       "      <td>0.600846</td>\n",
       "      <td>-0.178246</td>\n",
       "      <td>-0.286888</td>\n",
       "    </tr>\n",
       "    <tr>\n",
       "      <th>skewness_about.2</th>\n",
       "      <td>0.029489</td>\n",
       "      <td>-0.540655</td>\n",
       "      <td>0.009248</td>\n",
       "      <td>0.105391</td>\n",
       "      <td>-0.102145</td>\n",
       "      <td>0.152965</td>\n",
       "      <td>0.021670</td>\n",
       "    </tr>\n",
       "    <tr>\n",
       "      <th>hollows_ratio</th>\n",
       "      <td>0.073559</td>\n",
       "      <td>-0.539435</td>\n",
       "      <td>0.040189</td>\n",
       "      <td>0.047186</td>\n",
       "      <td>-0.031239</td>\n",
       "      <td>-0.246829</td>\n",
       "      <td>0.003717</td>\n",
       "    </tr>\n",
       "  </tbody>\n",
       "</table>\n",
       "</div>"
      ],
      "text/plain": [
       "                                  pc1       pc2       pc3       pc4       pc5  \\\n",
       "compactness                  0.274832 -0.127659 -0.119288  0.078264  0.068351   \n",
       "circularity                  0.295011  0.130073 -0.029979  0.184803 -0.082851   \n",
       "distance_circularity         0.304449 -0.074809 -0.055436 -0.070778  0.040325   \n",
       "radius_ratio                 0.267736 -0.188896  0.274809 -0.042638 -0.045318   \n",
       "pr.axis_aspect_ratio         0.080502 -0.121175  0.642809  0.035041 -0.042442   \n",
       "max.length_aspect_ratio      0.096734  0.011023  0.592126  0.030808  0.214420   \n",
       "scatter_ratio                0.316974  0.047104 -0.096355 -0.094881 -0.016724   \n",
       "elongatedness               -0.313578  0.013388  0.056555  0.083593  0.076976   \n",
       "pr.axis_rectangularity       0.313920  0.059950 -0.109165 -0.092082  0.000477   \n",
       "max.length_rectangularity    0.282334  0.115679 -0.017019  0.185336 -0.058793   \n",
       "scaled_variance              0.309413  0.061907  0.056757 -0.116249 -0.000266   \n",
       "scaled_variance.1            0.314367  0.051611 -0.107765 -0.091659 -0.019212   \n",
       "scaled_radius_of_gyration    0.271719  0.208658 -0.031300  0.199260 -0.059768   \n",
       "scaled_radius_of_gyration.1 -0.021183  0.489069  0.285044 -0.065131  0.144905   \n",
       "skewness_about               0.041466 -0.057094 -0.115755  0.606264  0.727998   \n",
       "skewness_about.1             0.057636 -0.124692 -0.074888 -0.667194  0.600846   \n",
       "skewness_about.2             0.029489 -0.540655  0.009248  0.105391 -0.102145   \n",
       "hollows_ratio                0.073559 -0.539435  0.040189  0.047186 -0.031239   \n",
       "\n",
       "                                  pc6       pc7  \n",
       "compactness                  0.135070  0.461888  \n",
       "circularity                 -0.281612 -0.240784  \n",
       "distance_circularity        -0.135601  0.067149  \n",
       "radius_ratio                 0.255839 -0.169783  \n",
       "pr.axis_aspect_ratio         0.246961 -0.390610  \n",
       "max.length_aspect_ratio     -0.435585  0.489446  \n",
       "scatter_ratio                0.113230  0.067577  \n",
       "elongatedness               -0.143023  0.010047  \n",
       "pr.axis_rectangularity       0.091754  0.098634  \n",
       "max.length_rectangularity   -0.465512 -0.123613  \n",
       "scaled_variance              0.233618  0.124152  \n",
       "scaled_variance.1            0.149987  0.084206  \n",
       "scaled_radius_of_gyration   -0.132880 -0.385707  \n",
       "scaled_radius_of_gyration.1  0.237763  0.118027  \n",
       "skewness_about               0.205261 -0.074456  \n",
       "skewness_about.1            -0.178246 -0.286888  \n",
       "skewness_about.2             0.152965  0.021670  \n",
       "hollows_ratio               -0.246829  0.003717  "
      ]
     },
     "execution_count": 29,
     "metadata": {},
     "output_type": "execute_result"
    }
   ],
   "source": [
    "pca_transformed=pd.DataFrame(pca.components_,columns=X.columns).T\n",
    "pca_transformed.columns=[\"pc1\",\"pc2\",\"pc3\",\"pc4\",\"pc5\",\"pc6\",\"pc7\"]\n",
    "print(pca_transformed.shape)\n",
    "pca_transformed"
   ]
  },
  {
   "cell_type": "raw",
   "metadata": {},
   "source": [
    "Note: Above is the loadings matrix which gives the correlation between each of the components and features. \n",
    "- It shows that pc1 has a lot many features which are highly correlated. Features such as scaled_variance.1, scaled_variance, pr.axis_rectangularity, scatter_ratio,scatter_ratio,distance_circularity and circularity are correlated.\n",
    "Thus the weightage of these features in pc1 is higher.\n",
    "- Pc2 has features skewness_about.2 and hollows_ratio which are hightly correlated and has higher weightage in this component.\n",
    "- It shows that pc5 captures most of the variance of skewness_about feature."
   ]
  },
  {
   "cell_type": "code",
   "execution_count": 30,
   "metadata": {},
   "outputs": [],
   "source": [
    "# Check the model results after applying PCA\n",
    "\n",
    "X_train_pca = pca.fit_transform(X_train)\n",
    "X_test_pca  = pca.transform(X_test)"
   ]
  },
  {
   "cell_type": "code",
   "execution_count": 31,
   "metadata": {},
   "outputs": [],
   "source": [
    "lr.fit(X_train_pca, y_train)\n",
    "y_pred_train = lr.predict(X_train_pca)\n",
    "y_pred_test = lr.predict(X_test_pca)"
   ]
  },
  {
   "cell_type": "code",
   "execution_count": 32,
   "metadata": {},
   "outputs": [
    {
     "name": "stdout",
     "output_type": "stream",
     "text": [
      " For train data :  0.7973372781065088 \n",
      " For test data  :  0.8058823529411765\n"
     ]
    }
   ],
   "source": [
    "from sklearn.metrics import f1_score,confusion_matrix\n",
    "\n",
    "print(' For train data : ', f1_score(y_train, y_pred_train,average=\"micro\"), '\\n', \n",
    "      'For test data  : ', f1_score(y_test, y_pred_test,average=\"micro\"))"
   ]
  },
  {
   "cell_type": "code",
   "execution_count": 33,
   "metadata": {},
   "outputs": [
    {
     "name": "stdout",
     "output_type": "stream",
     "text": [
      "[[77 13  5]\n",
      " [13 27  0]\n",
      " [ 0  2 33]]\n"
     ]
    }
   ],
   "source": [
    "print(confusion_matrix(y_test,y_pred_test))"
   ]
  },
  {
   "cell_type": "markdown",
   "metadata": {},
   "source": [
    "After applying PCA overfitting has reduced but the overall performance of the model is reduced"
   ]
  },
  {
   "cell_type": "markdown",
   "metadata": {},
   "source": [
    "### KMeans"
   ]
  },
  {
   "cell_type": "code",
   "execution_count": 34,
   "metadata": {},
   "outputs": [
    {
     "data": {
      "image/png": "[encoded data removed]",
      "text/plain": [
       "<Figure size 864x432 with 1 Axes>"
      ]
     },
     "metadata": {
      "needs_background": "light"
     },
     "output_type": "display_data"
    }
   ],
   "source": [
    "#Using standardized dataset\n",
    "from sklearn.cluster import KMeans\n",
    "wcss=[]\n",
    "\n",
    "for k in range(1,10):\n",
    "    kmeans = KMeans(n_clusters=k)\n",
    "    kmeans.fit(Xs)\n",
    "    wcss.append(kmeans.inertia_)\n",
    "    \n",
    "  \n",
    "#Visualization of k values using elbow plot:\n",
    "plt.figure(figsize=(12,6))\n",
    "plt.plot(range(1,10), wcss, color='red',marker = \"o\" )\n",
    "plt.title('Graph of k values and WCSS')\n",
    "plt.xlabel('k values')\n",
    "plt.ylabel('wcss values')\n",
    "plt.show()"
   ]
  },
  {
   "cell_type": "raw",
   "metadata": {},
   "source": [
    "cluster size 3 will be opted as the target categories are known"
   ]
  },
  {
   "cell_type": "code",
   "execution_count": 35,
   "metadata": {},
   "outputs": [
    {
     "data": {
      "image/png": "[encoded data removed]",
      "text/plain": [
       "<Figure size 432x288 with 1 Axes>"
      ]
     },
     "metadata": {
      "needs_background": "light"
     },
     "output_type": "display_data"
    }
   ],
   "source": [
    "import plusmodules as pm\n",
    "pm.svisualizer(Xs,3)"
   ]
  },
  {
   "cell_type": "raw",
   "metadata": {},
   "source": [
    "Misclassification are very few and all the silhouette coefficients are beyond the avg. Thus cluster size 3 can be opted"
   ]
  },
  {
   "cell_type": "code",
   "execution_count": 36,
   "metadata": {},
   "outputs": [
    {
     "data": {
      "text/plain": [
       "0.2916325366371433"
      ]
     },
     "execution_count": 36,
     "metadata": {},
     "output_type": "execute_result"
    }
   ],
   "source": [
    "from sklearn.metrics import silhouette_score\n",
    "kmeans=KMeans(n_clusters=3,random_state=0)\n",
    "kmeans.fit(Xs)\n",
    "df['kmeans']=kmeans.labels_\n",
    "silhouette_score(Xs,kmeans.labels_)"
   ]
  },
  {
   "cell_type": "raw",
   "metadata": {},
   "source": [
    "Silhouette score of 0.29 is descent. A score closer to 1 will indicate that the cluster is well matched. (range -1 to +1)"
   ]
  },
  {
   "cell_type": "code",
   "execution_count": 37,
   "metadata": {},
   "outputs": [
    {
     "data": {
      "text/plain": [
       "array([[2.69335419, 4.13101762, 4.01411943],\n",
       "       [1.75586056, 5.70923249, 2.62434863],\n",
       "       [5.53761895, 1.80693087, 6.84668492],\n",
       "       ...,\n",
       "       [6.44836699, 2.13183908, 7.91988237],\n",
       "       [3.17042902, 7.67494185, 3.60000984],\n",
       "       [4.33185179, 8.84520675, 2.95445661]])"
      ]
     },
     "execution_count": 37,
     "metadata": {},
     "output_type": "execute_result"
    }
   ],
   "source": [
    "X_reduced = kmeans.fit_transform(Xs)\n",
    "X_reduced"
   ]
  },
  {
   "cell_type": "code",
   "execution_count": 38,
   "metadata": {},
   "outputs": [],
   "source": [
    "from mpl_toolkits.mplot3d import Axes3D"
   ]
  },
  {
   "cell_type": "code",
   "execution_count": 39,
   "metadata": {},
   "outputs": [
    {
     "data": {
      "text/plain": [
       "Text(0.5, 0.92, '3D plot of KMeans Clustering')"
      ]
     },
     "execution_count": 39,
     "metadata": {},
     "output_type": "execute_result"
    },
    {
     "data": {
      "image/png": "[encoded data removed]",
      "text/plain": [
       "<Figure size 576x432 with 1 Axes>"
      ]
     },
     "metadata": {
      "needs_background": "light"
     },
     "output_type": "display_data"
    }
   ],
   "source": [
    "fig = plt.figure(figsize=(8, 6))\n",
    "ax = Axes3D(fig, rect=[0, 0, .95, 1], elev=20, azim=100)\n",
    "kmeans.fit(Xs)\n",
    "labels = kmeans.labels_\n",
    "ax.scatter(Xs.iloc[:, 0], Xs.iloc[:, 1], Xs.iloc[:, 2],c=labels.astype(np.float), edgecolor='k')\n",
    "ax.w_xaxis.set_ticklabels([])\n",
    "ax.w_yaxis.set_ticklabels([])\n",
    "ax.w_zaxis.set_ticklabels([])\n",
    "ax.set_xlabel('Length')\n",
    "ax.set_ylabel('Height')\n",
    "ax.set_zlabel('Weight')\n",
    "ax.set_title('3D plot of KMeans Clustering')"
   ]
  },
  {
   "cell_type": "code",
   "execution_count": 40,
   "metadata": {},
   "outputs": [
    {
     "data": {
      "image/png": "[encoded data removed]",
      "text/plain": [
       "<Figure size 864x432 with 1 Axes>"
      ]
     },
     "metadata": {
      "needs_background": "light"
     },
     "output_type": "display_data"
    }
   ],
   "source": [
    "#Kmeans with PCA\n",
    "from sklearn.cluster import KMeans\n",
    "wcss=[]\n",
    "\n",
    "for k in range(1,10):\n",
    "    kmeans = KMeans(n_clusters=k)\n",
    "    kmeans.fit(X_pca)\n",
    "    wcss.append(kmeans.inertia_)\n",
    "    \n",
    "  \n",
    "#Visualization of k values using elbow plot:\n",
    "plt.figure(figsize=(12,6))\n",
    "plt.plot(range(1,10), wcss, color='red',marker = \"o\" )\n",
    "plt.title('Graph of k values and WCSS')\n",
    "plt.xlabel('k values')\n",
    "plt.ylabel('wcss values')\n",
    "plt.show()"
   ]
  },
  {
   "cell_type": "raw",
   "metadata": {},
   "source": [
    "Here cluster size ideally to be chosen is 5 but since the target is known 3 will be chosen"
   ]
  },
  {
   "cell_type": "code",
   "execution_count": 41,
   "metadata": {},
   "outputs": [
    {
     "data": {
      "image/png": "[encoded data removed]",
      "text/plain": [
       "<Figure size 432x288 with 1 Axes>"
      ]
     },
     "metadata": {
      "needs_background": "light"
     },
     "output_type": "display_data"
    }
   ],
   "source": [
    "pm.svisualizer(X_pca,3)"
   ]
  },
  {
   "cell_type": "code",
   "execution_count": 42,
   "metadata": {},
   "outputs": [
    {
     "data": {
      "image/png": "[encoded data removed]",
      "text/plain": [
       "<Figure size 432x288 with 1 Axes>"
      ]
     },
     "metadata": {
      "needs_background": "light"
     },
     "output_type": "display_data"
    }
   ],
   "source": [
    "pm.svisualizer(X_pca,5)"
   ]
  },
  {
   "cell_type": "code",
   "execution_count": 43,
   "metadata": {},
   "outputs": [
    {
     "data": {
      "text/plain": [
       "0.15067953654427943"
      ]
     },
     "execution_count": 43,
     "metadata": {},
     "output_type": "execute_result"
    }
   ],
   "source": [
    "kmeans=KMeans(n_clusters=3,random_state=0)\n",
    "kmeans.fit(X_pca)\n",
    "df['kmeans_pca']=kmeans.labels_\n",
    "silhouette_score(X_pca,kmeans.labels_)"
   ]
  },
  {
   "cell_type": "raw",
   "metadata": {},
   "source": [
    "Clustering is better without PCA components but using the actual features as the misclassification is comparitively less"
   ]
  },
  {
   "cell_type": "code",
   "execution_count": 44,
   "metadata": {},
   "outputs": [
    {
     "data": {
      "image/png": "[encoded data removed]",
      "text/plain": [
       "<Figure size 432x288 with 1 Axes>"
      ]
     },
     "metadata": {
      "needs_background": "light"
     },
     "output_type": "display_data"
    }
   ],
   "source": [
    "# Plot the training points (scatter plot of PC1 and PC2 dimensions only),edgecolor='k'\n",
    "X_reduced = PCA(n_components=7).fit_transform(Xs)\n",
    "plt.scatter(X_reduced[:, 0], X_reduced[:, 1], c=kmeans.labels_, cmap=plt.cm.Set1)\n",
    "plt.xlabel('PC1')\n",
    "plt.ylabel('PC2')\n",
    "plt.show()"
   ]
  },
  {
   "cell_type": "markdown",
   "metadata": {},
   "source": [
    "### Hierarchial clustering"
   ]
  },
  {
   "cell_type": "code",
   "execution_count": 45,
   "metadata": {},
   "outputs": [
    {
     "data": {
      "text/plain": [
       "0.3697204592047872"
      ]
     },
     "execution_count": 45,
     "metadata": {},
     "output_type": "execute_result"
    }
   ],
   "source": [
    "from sklearn.cluster import AgglomerativeClustering\n",
    "\n",
    "hie_clus = AgglomerativeClustering(n_clusters=3, affinity='euclidean', linkage='complete')\n",
    "df[\"hierarchial\"] = hie_clus.fit_predict(Xs)\n",
    "silhouette_score(Xs,df[\"hierarchial\"])"
   ]
  },
  {
   "cell_type": "code",
   "execution_count": 46,
   "metadata": {},
   "outputs": [
    {
     "data": {
      "text/plain": [
       "0.2611887855773476"
      ]
     },
     "execution_count": 46,
     "metadata": {},
     "output_type": "execute_result"
    }
   ],
   "source": [
    "df[\"hierarchial_pca\"] = hie_clus.fit_predict(X_pca)\n",
    "silhouette_score(X_pca,df[\"hierarchial_pca\"])"
   ]
  },
  {
   "cell_type": "raw",
   "metadata": {},
   "source": [
    "Cophenetic distance \n",
    "- In dendogram\n",
    "Means the distance between two objects is the height of the dendrogram where the two branches that include the two objects merge into a single branch.\n",
    "- In cluster\n",
    "It is the distance between the largest two clusters that contain the two objects individually when they are merged into a single cluster that contains both."
   ]
  },
  {
   "cell_type": "raw",
   "metadata": {},
   "source": [
    "Cophenet index \n",
    "- Is a measure of the correlation between the distance of points in feature space and distance on dendrogram\n",
    "- Closer it is to 1, the better is the clustering"
   ]
  },
  {
   "cell_type": "code",
   "execution_count": 47,
   "metadata": {},
   "outputs": [
    {
     "data": {
      "text/plain": [
       "0.6528131202247113"
      ]
     },
     "execution_count": 47,
     "metadata": {},
     "output_type": "execute_result"
    }
   ],
   "source": [
    "from scipy.cluster.hierarchy import cophenet, dendrogram, linkage,cut_tree\n",
    "from scipy.spatial.distance import pdist  #Pairwise distribution between data points\n",
    "\n",
    "\n",
    "Z = linkage(Xs, 'ward')   # cophenetic distance\n",
    "c, coph_dists = cophenet(Z , pdist(Xs))\n",
    "c"
   ]
  },
  {
   "cell_type": "code",
   "execution_count": 48,
   "metadata": {},
   "outputs": [
    {
     "data": {
      "text/plain": [
       "array([ 17.65725061, 110.2606159 ,  32.40764185, ..., 110.2606159 ,\n",
       "       110.2606159 ,  56.73661026])"
      ]
     },
     "execution_count": 48,
     "metadata": {},
     "output_type": "execute_result"
    }
   ],
   "source": [
    "coph_dists"
   ]
  },
  {
   "cell_type": "code",
   "execution_count": 49,
   "metadata": {},
   "outputs": [],
   "source": [
    "#Using scipy package\n",
    "from scipy.cluster.hierarchy import linkage, dendrogram, cut_tree\n",
    "mergings = linkage(X_pca,method='ward')"
   ]
  },
  {
   "cell_type": "code",
   "execution_count": 50,
   "metadata": {},
   "outputs": [
    {
     "data": {
      "image/png": "[encoded data removed]",
      "text/plain": [
       "<Figure size 1296x720 with 1 Axes>"
      ]
     },
     "metadata": {
      "needs_background": "light"
     },
     "output_type": "display_data"
    }
   ],
   "source": [
    "plt.figure(figsize=(18,10))\n",
    "dendrogram(mergings)\n",
    "plt.show()"
   ]
  },
  {
   "cell_type": "code",
   "execution_count": 51,
   "metadata": {},
   "outputs": [],
   "source": [
    "hie_cluster = pd.Series(cut_tree(mergings,n_clusters=3).reshape(-1,))"
   ]
  },
  {
   "cell_type": "code",
   "execution_count": 52,
   "metadata": {},
   "outputs": [
    {
     "data": {
      "text/plain": [
       "0      0\n",
       "1      0\n",
       "2      0\n",
       "3      1\n",
       "4      2\n",
       "      ..\n",
       "841    1\n",
       "842    0\n",
       "843    0\n",
       "844    1\n",
       "845    1\n",
       "Length: 846, dtype: int32"
      ]
     },
     "execution_count": 52,
     "metadata": {},
     "output_type": "execute_result"
    }
   ],
   "source": [
    "hie_cluster"
   ]
  },
  {
   "cell_type": "markdown",
   "metadata": {},
   "source": [
    "**Comparing Original, K-Means and Hierarchical Clustered Classes:**"
   ]
  },
  {
   "cell_type": "code",
   "execution_count": 56,
   "metadata": {},
   "outputs": [
    {
     "data": {
      "image/png": "[encoded data removed]",
      "text/plain": [
       "<Figure size 432x288 with 1 Axes>"
      ]
     },
     "metadata": {
      "needs_background": "light"
     },
     "output_type": "display_data"
    },
    {
     "data": {
      "image/png": "[encoded data removed]",
      "text/plain": [
       "<Figure size 432x288 with 1 Axes>"
      ]
     },
     "metadata": {
      "needs_background": "light"
     },
     "output_type": "display_data"
    },
    {
     "data": {
      "image/png": "[encoded data removed]",
      "text/plain": [
       "<Figure size 432x288 with 1 Axes>"
      ]
     },
     "metadata": {
      "needs_background": "light"
     },
     "output_type": "display_data"
    }
   ],
   "source": [
    "plt.title('Original Classes')\n",
    "sns.scatterplot(x=df['compactness'], y=df['circularity'], hue=df['class'])\n",
    "plt.show()\n",
    "plt.title('K-Means Classes')\n",
    "sns.scatterplot(x=df['compactness'], y=df['circularity'], hue=df['kmeans'])\n",
    "plt.show()\n",
    "plt.title('Hierarchical Classes')\n",
    "sns.scatterplot(x=df['compactness'], y=df['circularity'], hue=df['hierarchial'])\n",
    "plt.show()"
   ]
  },
  {
   "cell_type": "code",
   "execution_count": 54,
   "metadata": {},
   "outputs": [
    {
     "data": {
      "text/html": [
       "<div>\n",
       "<style scoped>\n",
       "    .dataframe tbody tr th:only-of-type {\n",
       "        vertical-align: middle;\n",
       "    }\n",
       "\n",
       "    .dataframe tbody tr th {\n",
       "        vertical-align: top;\n",
       "    }\n",
       "\n",
       "    .dataframe thead th {\n",
       "        text-align: right;\n",
       "    }\n",
       "</style>\n",
       "<table border=\"1\" class=\"dataframe\">\n",
       "  <thead>\n",
       "    <tr style=\"text-align: right;\">\n",
       "      <th></th>\n",
       "      <th>compactness</th>\n",
       "      <th>circularity</th>\n",
       "      <th>distance_circularity</th>\n",
       "      <th>radius_ratio</th>\n",
       "      <th>pr.axis_aspect_ratio</th>\n",
       "      <th>max.length_aspect_ratio</th>\n",
       "      <th>scatter_ratio</th>\n",
       "      <th>elongatedness</th>\n",
       "      <th>pr.axis_rectangularity</th>\n",
       "      <th>max.length_rectangularity</th>\n",
       "      <th>...</th>\n",
       "      <th>scaled_radius_of_gyration.1</th>\n",
       "      <th>skewness_about</th>\n",
       "      <th>skewness_about.1</th>\n",
       "      <th>skewness_about.2</th>\n",
       "      <th>hollows_ratio</th>\n",
       "      <th>class</th>\n",
       "      <th>kmeans</th>\n",
       "      <th>kmeans_pca</th>\n",
       "      <th>hierarchial</th>\n",
       "      <th>hierarchial_pca</th>\n",
       "    </tr>\n",
       "  </thead>\n",
       "  <tbody>\n",
       "    <tr>\n",
       "      <th>0</th>\n",
       "      <td>95.0</td>\n",
       "      <td>48.0</td>\n",
       "      <td>83.0</td>\n",
       "      <td>178.0</td>\n",
       "      <td>72.0</td>\n",
       "      <td>10.0</td>\n",
       "      <td>162.0</td>\n",
       "      <td>42.0</td>\n",
       "      <td>20.0</td>\n",
       "      <td>159.0</td>\n",
       "      <td>...</td>\n",
       "      <td>70.0</td>\n",
       "      <td>6.0</td>\n",
       "      <td>16.0</td>\n",
       "      <td>187.0</td>\n",
       "      <td>197.0</td>\n",
       "      <td>2.0</td>\n",
       "      <td>0</td>\n",
       "      <td>2</td>\n",
       "      <td>0</td>\n",
       "      <td>1</td>\n",
       "    </tr>\n",
       "    <tr>\n",
       "      <th>1</th>\n",
       "      <td>91.0</td>\n",
       "      <td>41.0</td>\n",
       "      <td>84.0</td>\n",
       "      <td>141.0</td>\n",
       "      <td>57.0</td>\n",
       "      <td>9.0</td>\n",
       "      <td>149.0</td>\n",
       "      <td>45.0</td>\n",
       "      <td>19.0</td>\n",
       "      <td>143.0</td>\n",
       "      <td>...</td>\n",
       "      <td>72.0</td>\n",
       "      <td>9.0</td>\n",
       "      <td>14.0</td>\n",
       "      <td>189.0</td>\n",
       "      <td>199.0</td>\n",
       "      <td>2.0</td>\n",
       "      <td>0</td>\n",
       "      <td>2</td>\n",
       "      <td>0</td>\n",
       "      <td>1</td>\n",
       "    </tr>\n",
       "    <tr>\n",
       "      <th>2</th>\n",
       "      <td>104.0</td>\n",
       "      <td>50.0</td>\n",
       "      <td>106.0</td>\n",
       "      <td>209.0</td>\n",
       "      <td>66.0</td>\n",
       "      <td>10.0</td>\n",
       "      <td>207.0</td>\n",
       "      <td>32.0</td>\n",
       "      <td>23.0</td>\n",
       "      <td>158.0</td>\n",
       "      <td>...</td>\n",
       "      <td>73.0</td>\n",
       "      <td>14.0</td>\n",
       "      <td>9.0</td>\n",
       "      <td>188.0</td>\n",
       "      <td>196.0</td>\n",
       "      <td>0.0</td>\n",
       "      <td>1</td>\n",
       "      <td>1</td>\n",
       "      <td>2</td>\n",
       "      <td>1</td>\n",
       "    </tr>\n",
       "    <tr>\n",
       "      <th>3</th>\n",
       "      <td>93.0</td>\n",
       "      <td>41.0</td>\n",
       "      <td>82.0</td>\n",
       "      <td>159.0</td>\n",
       "      <td>63.0</td>\n",
       "      <td>9.0</td>\n",
       "      <td>144.0</td>\n",
       "      <td>46.0</td>\n",
       "      <td>19.0</td>\n",
       "      <td>143.0</td>\n",
       "      <td>...</td>\n",
       "      <td>63.0</td>\n",
       "      <td>6.0</td>\n",
       "      <td>10.0</td>\n",
       "      <td>199.0</td>\n",
       "      <td>207.0</td>\n",
       "      <td>2.0</td>\n",
       "      <td>0</td>\n",
       "      <td>0</td>\n",
       "      <td>0</td>\n",
       "      <td>1</td>\n",
       "    </tr>\n",
       "    <tr>\n",
       "      <th>4</th>\n",
       "      <td>85.0</td>\n",
       "      <td>44.0</td>\n",
       "      <td>70.0</td>\n",
       "      <td>205.0</td>\n",
       "      <td>103.0</td>\n",
       "      <td>52.0</td>\n",
       "      <td>149.0</td>\n",
       "      <td>45.0</td>\n",
       "      <td>19.0</td>\n",
       "      <td>144.0</td>\n",
       "      <td>...</td>\n",
       "      <td>127.0</td>\n",
       "      <td>9.0</td>\n",
       "      <td>11.0</td>\n",
       "      <td>180.0</td>\n",
       "      <td>183.0</td>\n",
       "      <td>1.0</td>\n",
       "      <td>2</td>\n",
       "      <td>2</td>\n",
       "      <td>1</td>\n",
       "      <td>0</td>\n",
       "    </tr>\n",
       "  </tbody>\n",
       "</table>\n",
       "<p>5 rows × 23 columns</p>\n",
       "</div>"
      ],
      "text/plain": [
       "   compactness  circularity  distance_circularity  radius_ratio  \\\n",
       "0         95.0         48.0                  83.0         178.0   \n",
       "1         91.0         41.0                  84.0         141.0   \n",
       "2        104.0         50.0                 106.0         209.0   \n",
       "3         93.0         41.0                  82.0         159.0   \n",
       "4         85.0         44.0                  70.0         205.0   \n",
       "\n",
       "   pr.axis_aspect_ratio  max.length_aspect_ratio  scatter_ratio  \\\n",
       "0                  72.0                     10.0          162.0   \n",
       "1                  57.0                      9.0          149.0   \n",
       "2                  66.0                     10.0          207.0   \n",
       "3                  63.0                      9.0          144.0   \n",
       "4                 103.0                     52.0          149.0   \n",
       "\n",
       "   elongatedness  pr.axis_rectangularity  max.length_rectangularity  ...  \\\n",
       "0           42.0                    20.0                      159.0  ...   \n",
       "1           45.0                    19.0                      143.0  ...   \n",
       "2           32.0                    23.0                      158.0  ...   \n",
       "3           46.0                    19.0                      143.0  ...   \n",
       "4           45.0                    19.0                      144.0  ...   \n",
       "\n",
       "   scaled_radius_of_gyration.1  skewness_about  skewness_about.1  \\\n",
       "0                         70.0             6.0              16.0   \n",
       "1                         72.0             9.0              14.0   \n",
       "2                         73.0            14.0               9.0   \n",
       "3                         63.0             6.0              10.0   \n",
       "4                        127.0             9.0              11.0   \n",
       "\n",
       "   skewness_about.2  hollows_ratio  class  kmeans  kmeans_pca  hierarchial  \\\n",
       "0             187.0          197.0    2.0       0           2            0   \n",
       "1             189.0          199.0    2.0       0           2            0   \n",
       "2             188.0          196.0    0.0       1           1            2   \n",
       "3             199.0          207.0    2.0       0           0            0   \n",
       "4             180.0          183.0    1.0       2           2            1   \n",
       "\n",
       "   hierarchial_pca  \n",
       "0                1  \n",
       "1                1  \n",
       "2                1  \n",
       "3                1  \n",
       "4                0  \n",
       "\n",
       "[5 rows x 23 columns]"
      ]
     },
     "execution_count": 54,
     "metadata": {},
     "output_type": "execute_result"
    }
   ],
   "source": [
    "df.head()"
   ]
  },
  {
   "cell_type": "code",
   "execution_count": 57,
   "metadata": {},
   "outputs": [
    {
     "name": "stdout",
     "output_type": "stream",
     "text": [
      "Original Data Classes:\n",
      "0.0    429\n",
      "1.0    218\n",
      "2.0    199\n",
      "Name: class, dtype: int64\n",
      "------------------------------\n",
      "K-Means Predicted Data Classes:\n",
      "0    329\n",
      "1    269\n",
      "2    248\n",
      "Name: kmeans, dtype: int64\n",
      "------------------------------\n",
      "Hierarchical Predicted Data Classes:\n",
      "0    640\n",
      "2    198\n",
      "1      8\n",
      "Name: hierarchial, dtype: int64\n"
     ]
    }
   ],
   "source": [
    "print('Original Data Classes:')\n",
    "print(df['class'].value_counts())\n",
    "print('-' * 30)\n",
    "print('K-Means Predicted Data Classes:')\n",
    "print(df['kmeans'].value_counts())\n",
    "print('-' * 30)\n",
    "print('Hierarchical Predicted Data Classes:')\n",
    "print(df['hierarchial'].value_counts())"
   ]
  },
  {
   "cell_type": "code",
   "execution_count": 59,
   "metadata": {},
   "outputs": [
    {
     "name": "stdout",
     "output_type": "stream",
     "text": [
      "Original Data Classes:\n",
      "0.0    429\n",
      "1.0    218\n",
      "2.0    199\n",
      "Name: class, dtype: int64\n",
      "------------------------------\n",
      "K-Means Predicted Data Classes with pca:\n",
      "0    317\n",
      "2    287\n",
      "1    242\n",
      "Name: kmeans_pca, dtype: int64\n",
      "------------------------------\n",
      "Hierarchical Predicted Data Classes with pca:\n",
      "1    809\n",
      "2     29\n",
      "0      8\n",
      "Name: hierarchial_pca, dtype: int64\n"
     ]
    }
   ],
   "source": [
    "print('Original Data Classes:')\n",
    "print(df['class'].value_counts())\n",
    "print('-' * 30)\n",
    "print('K-Means Predicted Data Classes with pca:')\n",
    "print(df['kmeans_pca'].value_counts())\n",
    "print('-' * 30)\n",
    "print('Hierarchical Predicted Data Classes with pca:')\n",
    "print(df['hierarchial_pca'].value_counts())"
   ]
  },
  {
   "cell_type": "markdown",
   "metadata": {},
   "source": [
    "Out of both the algorithms, Kmeans is performing better."
   ]
  },
  {
   "cell_type": "code",
   "execution_count": 61,
   "metadata": {},
   "outputs": [
    {
     "data": {
      "text/html": [
       "<div>\n",
       "<style scoped>\n",
       "    .dataframe tbody tr th:only-of-type {\n",
       "        vertical-align: middle;\n",
       "    }\n",
       "\n",
       "    .dataframe tbody tr th {\n",
       "        vertical-align: top;\n",
       "    }\n",
       "\n",
       "    .dataframe thead th {\n",
       "        text-align: right;\n",
       "    }\n",
       "</style>\n",
       "<table border=\"1\" class=\"dataframe\">\n",
       "  <thead>\n",
       "    <tr style=\"text-align: right;\">\n",
       "      <th>kmeans</th>\n",
       "      <th>0</th>\n",
       "      <th>1</th>\n",
       "      <th>2</th>\n",
       "    </tr>\n",
       "    <tr>\n",
       "      <th>class</th>\n",
       "      <th></th>\n",
       "      <th></th>\n",
       "      <th></th>\n",
       "    </tr>\n",
       "  </thead>\n",
       "  <tbody>\n",
       "    <tr>\n",
       "      <th>0.0</th>\n",
       "      <td>141</td>\n",
       "      <td>215</td>\n",
       "      <td>73</td>\n",
       "    </tr>\n",
       "    <tr>\n",
       "      <th>1.0</th>\n",
       "      <td>80</td>\n",
       "      <td>50</td>\n",
       "      <td>88</td>\n",
       "    </tr>\n",
       "    <tr>\n",
       "      <th>2.0</th>\n",
       "      <td>108</td>\n",
       "      <td>4</td>\n",
       "      <td>87</td>\n",
       "    </tr>\n",
       "  </tbody>\n",
       "</table>\n",
       "</div>"
      ],
      "text/plain": [
       "kmeans    0    1   2\n",
       "class               \n",
       "0.0     141  215  73\n",
       "1.0      80   50  88\n",
       "2.0     108    4  87"
      ]
     },
     "execution_count": 61,
     "metadata": {},
     "output_type": "execute_result"
    }
   ],
   "source": [
    "pd.crosstab(df['class'],df['kmeans'])"
   ]
  },
  {
   "cell_type": "code",
   "execution_count": 62,
   "metadata": {},
   "outputs": [
    {
     "data": {
      "text/html": [
       "<div>\n",
       "<style scoped>\n",
       "    .dataframe tbody tr th:only-of-type {\n",
       "        vertical-align: middle;\n",
       "    }\n",
       "\n",
       "    .dataframe tbody tr th {\n",
       "        vertical-align: top;\n",
       "    }\n",
       "\n",
       "    .dataframe thead th {\n",
       "        text-align: right;\n",
       "    }\n",
       "</style>\n",
       "<table border=\"1\" class=\"dataframe\">\n",
       "  <thead>\n",
       "    <tr style=\"text-align: right;\">\n",
       "      <th>kmeans_pca</th>\n",
       "      <th>0</th>\n",
       "      <th>1</th>\n",
       "      <th>2</th>\n",
       "    </tr>\n",
       "    <tr>\n",
       "      <th>class</th>\n",
       "      <th></th>\n",
       "      <th></th>\n",
       "      <th></th>\n",
       "    </tr>\n",
       "  </thead>\n",
       "  <tbody>\n",
       "    <tr>\n",
       "      <th>0.0</th>\n",
       "      <td>146</td>\n",
       "      <td>201</td>\n",
       "      <td>82</td>\n",
       "    </tr>\n",
       "    <tr>\n",
       "      <th>1.0</th>\n",
       "      <td>87</td>\n",
       "      <td>41</td>\n",
       "      <td>90</td>\n",
       "    </tr>\n",
       "    <tr>\n",
       "      <th>2.0</th>\n",
       "      <td>84</td>\n",
       "      <td>0</td>\n",
       "      <td>115</td>\n",
       "    </tr>\n",
       "  </tbody>\n",
       "</table>\n",
       "</div>"
      ],
      "text/plain": [
       "kmeans_pca    0    1    2\n",
       "class                    \n",
       "0.0         146  201   82\n",
       "1.0          87   41   90\n",
       "2.0          84    0  115"
      ]
     },
     "execution_count": 62,
     "metadata": {},
     "output_type": "execute_result"
    }
   ],
   "source": [
    "pd.crosstab(df['class'],df['kmeans_pca'])"
   ]
  },
  {
   "cell_type": "markdown",
   "metadata": {},
   "source": [
    "## Build An Classification model :-"
   ]
  },
  {
   "cell_type": "code",
   "execution_count": 63,
   "metadata": {},
   "outputs": [],
   "source": [
    "from sklearn.ensemble import RandomForestClassifier\n",
    "rfc=RandomForestClassifier()"
   ]
  },
  {
   "cell_type": "code",
   "execution_count": 65,
   "metadata": {},
   "outputs": [],
   "source": [
    "from sklearn.model_selection import GridSearchCV,KFold"
   ]
  },
  {
   "cell_type": "code",
   "execution_count": 84,
   "metadata": {},
   "outputs": [],
   "source": [
    "y=df[\"kmeans_pca\"]"
   ]
  },
  {
   "cell_type": "code",
   "execution_count": 85,
   "metadata": {},
   "outputs": [],
   "source": [
    "X_train, X_test, y_train, y_test = train_test_split(Xs, y, test_size = 0.2, random_state = 0)"
   ]
  },
  {
   "cell_type": "code",
   "execution_count": 86,
   "metadata": {},
   "outputs": [
    {
     "name": "stdout",
     "output_type": "stream",
     "text": [
      "Best Parameters using grid search: \n",
      " {'criterion': 'entropy', 'max_depth': 4, 'max_features': 'auto', 'min_samples_split': 2}\n"
     ]
    }
   ],
   "source": [
    "params={'max_depth': [2, 3, 4],'max_features': ['auto', 'log2', None],'criterion': ['gini', 'entropy'],'min_samples_split':[2,3,4,5]}\n",
    "kfold=KFold(random_state=0,shuffle=True,n_splits=5)\n",
    "cv_rf = GridSearchCV(rfc, cv = kfold, param_grid=params, n_jobs = 3)\n",
    "\n",
    "cv_rf.fit(X_train,y_train)\n",
    "print('Best Parameters using grid search: \\n', cv_rf.best_params_)"
   ]
  },
  {
   "cell_type": "code",
   "execution_count": 94,
   "metadata": {},
   "outputs": [],
   "source": [
    "#rfc=RandomForestClassifier(random_state=0,criterion='entropy',max_depth=4,min_samples_split=2)\n",
    "rfc=RandomForestClassifier(random_state=0,**cv_rf.best_params_)"
   ]
  },
  {
   "cell_type": "code",
   "execution_count": 95,
   "metadata": {},
   "outputs": [
    {
     "data": {
      "text/plain": [
       "RandomForestClassifier(bootstrap=True, ccp_alpha=0.0, class_weight=None,\n",
       "                       criterion='entropy', max_depth=4, max_features='auto',\n",
       "                       max_leaf_nodes=None, max_samples=None,\n",
       "                       min_impurity_decrease=0.0, min_impurity_split=None,\n",
       "                       min_samples_leaf=1, min_samples_split=2,\n",
       "                       min_weight_fraction_leaf=0.0, n_estimators=100,\n",
       "                       n_jobs=None, oob_score=False, random_state=0, verbose=0,\n",
       "                       warm_start=False)"
      ]
     },
     "execution_count": 95,
     "metadata": {},
     "output_type": "execute_result"
    }
   ],
   "source": [
    "rfc.fit(X_train,y_train)"
   ]
  },
  {
   "cell_type": "code",
   "execution_count": 96,
   "metadata": {},
   "outputs": [],
   "source": [
    "from sklearn.metrics import accuracy_score,classification_report\n",
    "\n",
    "y_pred_train = rfc.predict(X_train)\n",
    "y_pred_test = rfc.predict(X_test)"
   ]
  },
  {
   "cell_type": "code",
   "execution_count": 97,
   "metadata": {},
   "outputs": [
    {
     "name": "stdout",
     "output_type": "stream",
     "text": [
      " For train data :  0.9704142011834319 \n",
      " For test data  :  0.9588235294117647\n"
     ]
    }
   ],
   "source": [
    "from sklearn.metrics import f1_score\n",
    "\n",
    "print(' For train data : ', f1_score(y_train, y_pred_train,average=\"micro\"), '\\n', \n",
    "      'For test data  : ', f1_score(y_test, y_pred_test,average=\"micro\"))"
   ]
  },
  {
   "cell_type": "code",
   "execution_count": 98,
   "metadata": {},
   "outputs": [
    {
     "name": "stdout",
     "output_type": "stream",
     "text": [
      "              precision    recall  f1-score   support\n",
      "\n",
      "           0       0.96      0.94      0.95        69\n",
      "           1       1.00      0.98      0.99        56\n",
      "           2       0.91      0.96      0.93        45\n",
      "\n",
      "    accuracy                           0.96       170\n",
      "   macro avg       0.96      0.96      0.96       170\n",
      "weighted avg       0.96      0.96      0.96       170\n",
      "\n"
     ]
    }
   ],
   "source": [
    "print(classification_report(y_test, y_pred_test))"
   ]
  },
  {
   "cell_type": "code",
   "execution_count": 99,
   "metadata": {},
   "outputs": [
    {
     "data": {
      "text/html": [
       "<div>\n",
       "<style scoped>\n",
       "    .dataframe tbody tr th:only-of-type {\n",
       "        vertical-align: middle;\n",
       "    }\n",
       "\n",
       "    .dataframe tbody tr th {\n",
       "        vertical-align: top;\n",
       "    }\n",
       "\n",
       "    .dataframe thead th {\n",
       "        text-align: right;\n",
       "    }\n",
       "</style>\n",
       "<table border=\"1\" class=\"dataframe\">\n",
       "  <thead>\n",
       "    <tr style=\"text-align: right;\">\n",
       "      <th>col_0</th>\n",
       "      <th>0</th>\n",
       "      <th>1</th>\n",
       "      <th>2</th>\n",
       "    </tr>\n",
       "    <tr>\n",
       "      <th>kmeans_pca</th>\n",
       "      <th></th>\n",
       "      <th></th>\n",
       "      <th></th>\n",
       "    </tr>\n",
       "  </thead>\n",
       "  <tbody>\n",
       "    <tr>\n",
       "      <th>0</th>\n",
       "      <td>65</td>\n",
       "      <td>0</td>\n",
       "      <td>4</td>\n",
       "    </tr>\n",
       "    <tr>\n",
       "      <th>1</th>\n",
       "      <td>1</td>\n",
       "      <td>55</td>\n",
       "      <td>0</td>\n",
       "    </tr>\n",
       "    <tr>\n",
       "      <th>2</th>\n",
       "      <td>2</td>\n",
       "      <td>0</td>\n",
       "      <td>43</td>\n",
       "    </tr>\n",
       "  </tbody>\n",
       "</table>\n",
       "</div>"
      ],
      "text/plain": [
       "col_0        0   1   2\n",
       "kmeans_pca            \n",
       "0           65   0   4\n",
       "1            1  55   0\n",
       "2            2   0  43"
      ]
     },
     "execution_count": 99,
     "metadata": {},
     "output_type": "execute_result"
    }
   ],
   "source": [
    "pd.crosstab(y_test, y_pred_test)"
   ]
  },
  {
   "cell_type": "raw",
   "metadata": {},
   "source": [
    "Conclusions:\n",
    "- Based on the output of the crosstab, most of the data is predicted correctly.\n",
    "- There are chances of 96% accuracy that the model will be predict when there is a new value."
   ]
  }
 ],
 "metadata": {
  "kernelspec": {
   "display_name": "Python 3",
   "language": "python",
   "name": "python3"
  },
  "language_info": {
   "codemirror_mode": {
    "name": "ipython",
    "version": 3
   },
   "file_extension": ".py",
   "mimetype": "text/x-python",
   "name": "python",
   "nbconvert_exporter": "python",
   "pygments_lexer": "ipython3",
   "version": "3.7.4"
  }
 },
 "nbformat": 4,
 "nbformat_minor": 2
}
